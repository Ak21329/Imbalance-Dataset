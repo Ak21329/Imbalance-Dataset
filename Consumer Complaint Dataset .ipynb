{
 "cells": [
  {
   "cell_type": "markdown",
   "id": "71966382",
   "metadata": {},
   "source": [
    "## Importing Libraries"
   ]
  },
  {
   "cell_type": "code",
   "execution_count": 1,
   "id": "27628ba4",
   "metadata": {},
   "outputs": [],
   "source": [
    "import os\n",
    "import pandas as pd\n",
    "import numpy as np\n",
    "from scipy.stats import randint\n",
    "import seaborn as sns # used for plot interactive graph.\n",
    "import matplotlib.pyplot as plt\n",
    "import seaborn as sns\n",
    "from io import StringIO"
   ]
  },
  {
   "cell_type": "code",
   "execution_count": 2,
   "id": "3b2d4ad2",
   "metadata": {},
   "outputs": [
    {
     "name": "stderr",
     "output_type": "stream",
     "text": [
      "C:\\Users\\pande\\anaconda3\\lib\\site-packages\\IPython\\core\\interactiveshell.py:3444: DtypeWarning: Columns (9) have mixed types.Specify dtype option on import or set low_memory=False.\n",
      "  exec(code_obj, self.user_global_ns, self.user_ns)\n"
     ]
    }
   ],
   "source": [
    "# loading data\n",
    "df = pd.read_csv('complaints.csv')"
   ]
  },
  {
   "cell_type": "code",
   "execution_count": 3,
   "id": "527095df",
   "metadata": {},
   "outputs": [
    {
     "data": {
      "text/plain": [
       "(2496491, 18)"
      ]
     },
     "execution_count": 3,
     "metadata": {},
     "output_type": "execute_result"
    }
   ],
   "source": [
    "#to see shape of data\n",
    "df.shape\n",
    "# there are 18 columns and 2496491 rows"
   ]
  },
  {
   "cell_type": "code",
   "execution_count": 4,
   "id": "272bcf0d",
   "metadata": {},
   "outputs": [
    {
     "name": "stdout",
     "output_type": "stream",
     "text": [
      "<class 'pandas.core.frame.DataFrame'>\n",
      "RangeIndex: 2496491 entries, 0 to 2496490\n",
      "Data columns (total 18 columns):\n",
      " #   Column                        Dtype \n",
      "---  ------                        ----- \n",
      " 0   Date received                 object\n",
      " 1   Product                       object\n",
      " 2   Sub-product                   object\n",
      " 3   Issue                         object\n",
      " 4   Sub-issue                     object\n",
      " 5   Consumer complaint narrative  object\n",
      " 6   Company public response       object\n",
      " 7   Company                       object\n",
      " 8   State                         object\n",
      " 9   ZIP code                      object\n",
      " 10  Tags                          object\n",
      " 11  Consumer consent provided?    object\n",
      " 12  Submitted via                 object\n",
      " 13  Date sent to company          object\n",
      " 14  Company response to consumer  object\n",
      " 15  Timely response?              object\n",
      " 16  Consumer disputed?            object\n",
      " 17  Complaint ID                  int64 \n",
      "dtypes: int64(1), object(17)\n",
      "memory usage: 342.8+ MB\n"
     ]
    }
   ],
   "source": [
    "#checking available columns and its data type\n",
    "df.info()"
   ]
  },
  {
   "cell_type": "code",
   "execution_count": 5,
   "id": "8f40de9b",
   "metadata": {},
   "outputs": [
    {
     "data": {
      "text/html": [
       "<div>\n",
       "<style scoped>\n",
       "    .dataframe tbody tr th:only-of-type {\n",
       "        vertical-align: middle;\n",
       "    }\n",
       "\n",
       "    .dataframe tbody tr th {\n",
       "        vertical-align: top;\n",
       "    }\n",
       "\n",
       "    .dataframe thead th {\n",
       "        text-align: right;\n",
       "    }\n",
       "</style>\n",
       "<table border=\"1\" class=\"dataframe\">\n",
       "  <thead>\n",
       "    <tr style=\"text-align: right;\">\n",
       "      <th></th>\n",
       "      <th>Date received</th>\n",
       "      <th>Product</th>\n",
       "      <th>Sub-product</th>\n",
       "      <th>Issue</th>\n",
       "      <th>Sub-issue</th>\n",
       "      <th>Consumer complaint narrative</th>\n",
       "      <th>Company public response</th>\n",
       "      <th>Company</th>\n",
       "      <th>State</th>\n",
       "      <th>ZIP code</th>\n",
       "      <th>Tags</th>\n",
       "      <th>Consumer consent provided?</th>\n",
       "      <th>Submitted via</th>\n",
       "      <th>Date sent to company</th>\n",
       "      <th>Company response to consumer</th>\n",
       "      <th>Timely response?</th>\n",
       "      <th>Consumer disputed?</th>\n",
       "      <th>Complaint ID</th>\n",
       "    </tr>\n",
       "  </thead>\n",
       "  <tbody>\n",
       "    <tr>\n",
       "      <th>0</th>\n",
       "      <td>2019-05-03</td>\n",
       "      <td>Student loan</td>\n",
       "      <td>Private student loan</td>\n",
       "      <td>Struggling to repay your loan</td>\n",
       "      <td>Can't get other flexible options for repaying ...</td>\n",
       "      <td>NaN</td>\n",
       "      <td>NaN</td>\n",
       "      <td>Ameritech Financial</td>\n",
       "      <td>FL</td>\n",
       "      <td>33023.0</td>\n",
       "      <td>NaN</td>\n",
       "      <td>Consent not provided</td>\n",
       "      <td>Web</td>\n",
       "      <td>2019-05-15</td>\n",
       "      <td>Untimely response</td>\n",
       "      <td>No</td>\n",
       "      <td>NaN</td>\n",
       "      <td>3231257</td>\n",
       "    </tr>\n",
       "    <tr>\n",
       "      <th>1</th>\n",
       "      <td>2022-01-15</td>\n",
       "      <td>Credit reporting, credit repair services, or o...</td>\n",
       "      <td>Credit reporting</td>\n",
       "      <td>Incorrect information on your report</td>\n",
       "      <td>Account information incorrect</td>\n",
       "      <td>NaN</td>\n",
       "      <td>NaN</td>\n",
       "      <td>Experian Information Solutions Inc.</td>\n",
       "      <td>NV</td>\n",
       "      <td>89146.0</td>\n",
       "      <td>NaN</td>\n",
       "      <td>NaN</td>\n",
       "      <td>Web</td>\n",
       "      <td>2022-01-15</td>\n",
       "      <td>In progress</td>\n",
       "      <td>Yes</td>\n",
       "      <td>NaN</td>\n",
       "      <td>5111916</td>\n",
       "    </tr>\n",
       "    <tr>\n",
       "      <th>2</th>\n",
       "      <td>2021-12-08</td>\n",
       "      <td>Credit reporting, credit repair services, or o...</td>\n",
       "      <td>Credit reporting</td>\n",
       "      <td>Problem with a credit reporting company's inve...</td>\n",
       "      <td>Their investigation did not fix an error on yo...</td>\n",
       "      <td>First Progress Card was notified throughout th...</td>\n",
       "      <td>NaN</td>\n",
       "      <td>Synovus Bank</td>\n",
       "      <td>DE</td>\n",
       "      <td>19805.0</td>\n",
       "      <td>NaN</td>\n",
       "      <td>Consent provided</td>\n",
       "      <td>Web</td>\n",
       "      <td>2021-12-08</td>\n",
       "      <td>Closed with explanation</td>\n",
       "      <td>Yes</td>\n",
       "      <td>NaN</td>\n",
       "      <td>4984749</td>\n",
       "    </tr>\n",
       "    <tr>\n",
       "      <th>3</th>\n",
       "      <td>2021-12-31</td>\n",
       "      <td>Credit reporting, credit repair services, or o...</td>\n",
       "      <td>Credit reporting</td>\n",
       "      <td>Problem with a credit reporting company's inve...</td>\n",
       "      <td>Was not notified of investigation status or re...</td>\n",
       "      <td>As by Law, under 15 U.S Code 1601- Congression...</td>\n",
       "      <td>Company has responded to the consumer and the ...</td>\n",
       "      <td>Experian Information Solutions Inc.</td>\n",
       "      <td>MD</td>\n",
       "      <td>20744.0</td>\n",
       "      <td>NaN</td>\n",
       "      <td>Consent provided</td>\n",
       "      <td>Web</td>\n",
       "      <td>2021-12-31</td>\n",
       "      <td>Closed with explanation</td>\n",
       "      <td>Yes</td>\n",
       "      <td>NaN</td>\n",
       "      <td>5057575</td>\n",
       "    </tr>\n",
       "    <tr>\n",
       "      <th>4</th>\n",
       "      <td>2019-12-04</td>\n",
       "      <td>Credit reporting, credit repair services, or o...</td>\n",
       "      <td>Credit reporting</td>\n",
       "      <td>Problem with a credit reporting company's inve...</td>\n",
       "      <td>Their investigation did not fix an error on yo...</td>\n",
       "      <td>NaN</td>\n",
       "      <td>NaN</td>\n",
       "      <td>General Motors Financial Company, Inc.</td>\n",
       "      <td>NJ</td>\n",
       "      <td>8628.0</td>\n",
       "      <td>NaN</td>\n",
       "      <td>Consent not provided</td>\n",
       "      <td>Web</td>\n",
       "      <td>2019-12-04</td>\n",
       "      <td>Closed with non-monetary relief</td>\n",
       "      <td>Yes</td>\n",
       "      <td>NaN</td>\n",
       "      <td>3458216</td>\n",
       "    </tr>\n",
       "  </tbody>\n",
       "</table>\n",
       "</div>"
      ],
      "text/plain": [
       "  Date received                                            Product  \\\n",
       "0    2019-05-03                                       Student loan   \n",
       "1    2022-01-15  Credit reporting, credit repair services, or o...   \n",
       "2    2021-12-08  Credit reporting, credit repair services, or o...   \n",
       "3    2021-12-31  Credit reporting, credit repair services, or o...   \n",
       "4    2019-12-04  Credit reporting, credit repair services, or o...   \n",
       "\n",
       "            Sub-product                                              Issue  \\\n",
       "0  Private student loan                      Struggling to repay your loan   \n",
       "1      Credit reporting               Incorrect information on your report   \n",
       "2      Credit reporting  Problem with a credit reporting company's inve...   \n",
       "3      Credit reporting  Problem with a credit reporting company's inve...   \n",
       "4      Credit reporting  Problem with a credit reporting company's inve...   \n",
       "\n",
       "                                           Sub-issue  \\\n",
       "0  Can't get other flexible options for repaying ...   \n",
       "1                      Account information incorrect   \n",
       "2  Their investigation did not fix an error on yo...   \n",
       "3  Was not notified of investigation status or re...   \n",
       "4  Their investigation did not fix an error on yo...   \n",
       "\n",
       "                        Consumer complaint narrative  \\\n",
       "0                                                NaN   \n",
       "1                                                NaN   \n",
       "2  First Progress Card was notified throughout th...   \n",
       "3  As by Law, under 15 U.S Code 1601- Congression...   \n",
       "4                                                NaN   \n",
       "\n",
       "                             Company public response  \\\n",
       "0                                                NaN   \n",
       "1                                                NaN   \n",
       "2                                                NaN   \n",
       "3  Company has responded to the consumer and the ...   \n",
       "4                                                NaN   \n",
       "\n",
       "                                  Company State ZIP code Tags  \\\n",
       "0                     Ameritech Financial    FL  33023.0  NaN   \n",
       "1     Experian Information Solutions Inc.    NV  89146.0  NaN   \n",
       "2                            Synovus Bank    DE  19805.0  NaN   \n",
       "3     Experian Information Solutions Inc.    MD  20744.0  NaN   \n",
       "4  General Motors Financial Company, Inc.    NJ   8628.0  NaN   \n",
       "\n",
       "  Consumer consent provided? Submitted via Date sent to company  \\\n",
       "0       Consent not provided           Web           2019-05-15   \n",
       "1                        NaN           Web           2022-01-15   \n",
       "2           Consent provided           Web           2021-12-08   \n",
       "3           Consent provided           Web           2021-12-31   \n",
       "4       Consent not provided           Web           2019-12-04   \n",
       "\n",
       "      Company response to consumer Timely response? Consumer disputed?  \\\n",
       "0                Untimely response               No                NaN   \n",
       "1                      In progress              Yes                NaN   \n",
       "2          Closed with explanation              Yes                NaN   \n",
       "3          Closed with explanation              Yes                NaN   \n",
       "4  Closed with non-monetary relief              Yes                NaN   \n",
       "\n",
       "   Complaint ID  \n",
       "0       3231257  \n",
       "1       5111916  \n",
       "2       4984749  \n",
       "3       5057575  \n",
       "4       3458216  "
      ]
     },
     "execution_count": 5,
     "metadata": {},
     "output_type": "execute_result"
    }
   ],
   "source": [
    "#lets print the top 5 data \n",
    "df.head(5)"
   ]
  },
  {
   "cell_type": "markdown",
   "id": "40435f5e",
   "metadata": {},
   "source": [
    "##### by looking into the 18 columns it seems that we need only two columns for our purpose, i.e. Consumer complaint narrative and Product. So lets capture the these two column data"
   ]
  },
  {
   "cell_type": "code",
   "execution_count": 6,
   "id": "37e9e75e",
   "metadata": {},
   "outputs": [],
   "source": [
    "# dataframe with two columns\n",
    "df1 = df[['Product', 'Consumer complaint narrative']].copy()"
   ]
  },
  {
   "cell_type": "code",
   "execution_count": 7,
   "id": "8e840eb0",
   "metadata": {},
   "outputs": [],
   "source": [
    "# It contains mising (NaN) values, since we have huge number of data we will drop the NaN.\n",
    "df1 = df1[pd.notnull(df1['Consumer complaint narrative'])]"
   ]
  },
  {
   "cell_type": "code",
   "execution_count": 8,
   "id": "e9d33b2e",
   "metadata": {},
   "outputs": [],
   "source": [
    "# Renaming second column for a simpler name\n",
    "df1.columns = ['Product', 'Consumer_complaint']"
   ]
  },
  {
   "cell_type": "code",
   "execution_count": 9,
   "id": "e3802cb0",
   "metadata": {},
   "outputs": [
    {
     "name": "stdout",
     "output_type": "stream",
     "text": [
      "(872949, 2)\n"
     ]
    },
    {
     "data": {
      "text/html": [
       "<div>\n",
       "<style scoped>\n",
       "    .dataframe tbody tr th:only-of-type {\n",
       "        vertical-align: middle;\n",
       "    }\n",
       "\n",
       "    .dataframe tbody tr th {\n",
       "        vertical-align: top;\n",
       "    }\n",
       "\n",
       "    .dataframe thead th {\n",
       "        text-align: right;\n",
       "    }\n",
       "</style>\n",
       "<table border=\"1\" class=\"dataframe\">\n",
       "  <thead>\n",
       "    <tr style=\"text-align: right;\">\n",
       "      <th></th>\n",
       "      <th>Product</th>\n",
       "      <th>Consumer_complaint</th>\n",
       "    </tr>\n",
       "  </thead>\n",
       "  <tbody>\n",
       "    <tr>\n",
       "      <th>2</th>\n",
       "      <td>Credit reporting, credit repair services, or o...</td>\n",
       "      <td>First Progress Card was notified throughout th...</td>\n",
       "    </tr>\n",
       "    <tr>\n",
       "      <th>3</th>\n",
       "      <td>Credit reporting, credit repair services, or o...</td>\n",
       "      <td>As by Law, under 15 U.S Code 1601- Congression...</td>\n",
       "    </tr>\n",
       "    <tr>\n",
       "      <th>8</th>\n",
       "      <td>Credit reporting, credit repair services, or o...</td>\n",
       "      <td>I am XXXX XXXX and I am submitting this compla...</td>\n",
       "    </tr>\n",
       "    <tr>\n",
       "      <th>16</th>\n",
       "      <td>Credit reporting, credit repair services, or o...</td>\n",
       "      <td>Dear Legal Department, This credit dispute is ...</td>\n",
       "    </tr>\n",
       "    <tr>\n",
       "      <th>18</th>\n",
       "      <td>Credit reporting, credit repair services, or o...</td>\n",
       "      <td>My bank called me and told me there was a unkn...</td>\n",
       "    </tr>\n",
       "  </tbody>\n",
       "</table>\n",
       "</div>"
      ],
      "text/plain": [
       "                                              Product  \\\n",
       "2   Credit reporting, credit repair services, or o...   \n",
       "3   Credit reporting, credit repair services, or o...   \n",
       "8   Credit reporting, credit repair services, or o...   \n",
       "16  Credit reporting, credit repair services, or o...   \n",
       "18  Credit reporting, credit repair services, or o...   \n",
       "\n",
       "                                   Consumer_complaint  \n",
       "2   First Progress Card was notified throughout th...  \n",
       "3   As by Law, under 15 U.S Code 1601- Congression...  \n",
       "8   I am XXXX XXXX and I am submitting this compla...  \n",
       "16  Dear Legal Department, This credit dispute is ...  \n",
       "18  My bank called me and told me there was a unkn...  "
      ]
     },
     "execution_count": 9,
     "metadata": {},
     "output_type": "execute_result"
    }
   ],
   "source": [
    "print(df1.shape)\n",
    "df1.head(5)"
   ]
  },
  {
   "cell_type": "code",
   "execution_count": 10,
   "id": "467d5760",
   "metadata": {},
   "outputs": [
    {
     "data": {
      "text/plain": [
       "array([['Credit reporting, credit repair services, or other personal consumer reports'],\n",
       "       ['Credit card or prepaid card'],\n",
       "       ['Debt collection'],\n",
       "       ['Mortgage'],\n",
       "       ['Money transfer, virtual currency, or money service'],\n",
       "       ['Vehicle loan or lease'],\n",
       "       ['Checking or savings account'],\n",
       "       ['Student loan'],\n",
       "       ['Payday loan, title loan, or personal loan'],\n",
       "       ['Consumer Loan'],\n",
       "       ['Payday loan'],\n",
       "       ['Bank account or service'],\n",
       "       ['Credit reporting'],\n",
       "       ['Prepaid card'],\n",
       "       ['Credit card'],\n",
       "       ['Money transfers'],\n",
       "       ['Other financial service'],\n",
       "       ['Virtual currency']], dtype=object)"
      ]
     },
     "execution_count": 10,
     "metadata": {},
     "output_type": "execute_result"
    }
   ],
   "source": [
    "# checking unique values in Product\n",
    "pd.DataFrame(df1.Product.unique()).values"
   ]
  },
  {
   "cell_type": "code",
   "execution_count": 11,
   "id": "2643933a",
   "metadata": {},
   "outputs": [],
   "source": [
    "# Because the computation is time consuming (in terms of CPU), the data was sampled\n",
    "df2 = df1.sample(10000, random_state=1).copy()"
   ]
  },
  {
   "cell_type": "code",
   "execution_count": 12,
   "id": "b2279395",
   "metadata": {},
   "outputs": [],
   "source": [
    "# Renaming categories\n",
    "df2.replace({'Product': \n",
    "             {'Credit reporting, credit repair services, or other personal consumer reports': \n",
    "              'Credit reporting, repair, or other', \n",
    "              'Credit reporting': 'Credit reporting, repair, or other',\n",
    "             'Credit card': 'Credit card or prepaid card',\n",
    "             'Prepaid card': 'Credit card or prepaid card',\n",
    "             'Payday loan': 'Payday loan, title loan, or personal loan',\n",
    "             'Money transfer': 'Money transfer, virtual currency, or money service',\n",
    "             'Virtual currency': 'Money transfer, virtual currency, or money service'}}, \n",
    "            inplace= True)\n"
   ]
  },
  {
   "cell_type": "code",
   "execution_count": 13,
   "id": "064261af",
   "metadata": {},
   "outputs": [
    {
     "data": {
      "text/html": [
       "<div>\n",
       "<style scoped>\n",
       "    .dataframe tbody tr th:only-of-type {\n",
       "        vertical-align: middle;\n",
       "    }\n",
       "\n",
       "    .dataframe tbody tr th {\n",
       "        vertical-align: top;\n",
       "    }\n",
       "\n",
       "    .dataframe thead th {\n",
       "        text-align: right;\n",
       "    }\n",
       "</style>\n",
       "<table border=\"1\" class=\"dataframe\">\n",
       "  <thead>\n",
       "    <tr style=\"text-align: right;\">\n",
       "      <th></th>\n",
       "      <th>0</th>\n",
       "    </tr>\n",
       "  </thead>\n",
       "  <tbody>\n",
       "    <tr>\n",
       "      <th>0</th>\n",
       "      <td>Credit reporting, repair, or other</td>\n",
       "    </tr>\n",
       "    <tr>\n",
       "      <th>1</th>\n",
       "      <td>Mortgage</td>\n",
       "    </tr>\n",
       "    <tr>\n",
       "      <th>2</th>\n",
       "      <td>Payday loan, title loan, or personal loan</td>\n",
       "    </tr>\n",
       "    <tr>\n",
       "      <th>3</th>\n",
       "      <td>Credit card or prepaid card</td>\n",
       "    </tr>\n",
       "    <tr>\n",
       "      <th>4</th>\n",
       "      <td>Debt collection</td>\n",
       "    </tr>\n",
       "    <tr>\n",
       "      <th>5</th>\n",
       "      <td>Consumer Loan</td>\n",
       "    </tr>\n",
       "    <tr>\n",
       "      <th>6</th>\n",
       "      <td>Student loan</td>\n",
       "    </tr>\n",
       "    <tr>\n",
       "      <th>7</th>\n",
       "      <td>Money transfer, virtual currency, or money ser...</td>\n",
       "    </tr>\n",
       "    <tr>\n",
       "      <th>8</th>\n",
       "      <td>Checking or savings account</td>\n",
       "    </tr>\n",
       "    <tr>\n",
       "      <th>9</th>\n",
       "      <td>Bank account or service</td>\n",
       "    </tr>\n",
       "    <tr>\n",
       "      <th>10</th>\n",
       "      <td>Vehicle loan or lease</td>\n",
       "    </tr>\n",
       "    <tr>\n",
       "      <th>11</th>\n",
       "      <td>Money transfers</td>\n",
       "    </tr>\n",
       "    <tr>\n",
       "      <th>12</th>\n",
       "      <td>Other financial service</td>\n",
       "    </tr>\n",
       "  </tbody>\n",
       "</table>\n",
       "</div>"
      ],
      "text/plain": [
       "                                                    0\n",
       "0                  Credit reporting, repair, or other\n",
       "1                                            Mortgage\n",
       "2           Payday loan, title loan, or personal loan\n",
       "3                         Credit card or prepaid card\n",
       "4                                     Debt collection\n",
       "5                                       Consumer Loan\n",
       "6                                        Student loan\n",
       "7   Money transfer, virtual currency, or money ser...\n",
       "8                         Checking or savings account\n",
       "9                             Bank account or service\n",
       "10                              Vehicle loan or lease\n",
       "11                                    Money transfers\n",
       "12                            Other financial service"
      ]
     },
     "execution_count": 13,
     "metadata": {},
     "output_type": "execute_result"
    }
   ],
   "source": [
    "# checking unique values from product after renaming the values in product\n",
    "pd.DataFrame(df2.Product.unique())"
   ]
  },
  {
   "cell_type": "code",
   "execution_count": 14,
   "id": "1381a2b3",
   "metadata": {},
   "outputs": [],
   "source": [
    "# Create a new column 'category_id' with encoded categories \n",
    "df2['category_id'] = df2['Product'].factorize()[0]\n",
    "category_id_df = df2[['Product', 'category_id']].drop_duplicates()"
   ]
  },
  {
   "cell_type": "code",
   "execution_count": 15,
   "id": "f46a568b",
   "metadata": {},
   "outputs": [
    {
     "data": {
      "text/html": [
       "<div>\n",
       "<style scoped>\n",
       "    .dataframe tbody tr th:only-of-type {\n",
       "        vertical-align: middle;\n",
       "    }\n",
       "\n",
       "    .dataframe tbody tr th {\n",
       "        vertical-align: top;\n",
       "    }\n",
       "\n",
       "    .dataframe thead th {\n",
       "        text-align: right;\n",
       "    }\n",
       "</style>\n",
       "<table border=\"1\" class=\"dataframe\">\n",
       "  <thead>\n",
       "    <tr style=\"text-align: right;\">\n",
       "      <th></th>\n",
       "      <th>Product</th>\n",
       "      <th>Consumer_complaint</th>\n",
       "      <th>category_id</th>\n",
       "    </tr>\n",
       "  </thead>\n",
       "  <tbody>\n",
       "    <tr>\n",
       "      <th>808230</th>\n",
       "      <td>Credit reporting, repair, or other</td>\n",
       "      <td>On XX/XX/2020, I submitted our mortgage paymen...</td>\n",
       "      <td>0</td>\n",
       "    </tr>\n",
       "    <tr>\n",
       "      <th>918222</th>\n",
       "      <td>Mortgage</td>\n",
       "      <td>For the past 6 years my mortgage payment inclu...</td>\n",
       "      <td>1</td>\n",
       "    </tr>\n",
       "    <tr>\n",
       "      <th>892570</th>\n",
       "      <td>Payday loan, title loan, or personal loan</td>\n",
       "      <td>I called Prosper to understand the interested ...</td>\n",
       "      <td>2</td>\n",
       "    </tr>\n",
       "    <tr>\n",
       "      <th>1163069</th>\n",
       "      <td>Credit card or prepaid card</td>\n",
       "      <td>I have been a loyal customer of XXXX XXXX for ...</td>\n",
       "      <td>3</td>\n",
       "    </tr>\n",
       "    <tr>\n",
       "      <th>522766</th>\n",
       "      <td>Debt collection</td>\n",
       "      <td>A few months I sent Diversified Consultnts a l...</td>\n",
       "      <td>4</td>\n",
       "    </tr>\n",
       "  </tbody>\n",
       "</table>\n",
       "</div>"
      ],
      "text/plain": [
       "                                           Product  \\\n",
       "808230          Credit reporting, repair, or other   \n",
       "918222                                    Mortgage   \n",
       "892570   Payday loan, title loan, or personal loan   \n",
       "1163069                Credit card or prepaid card   \n",
       "522766                             Debt collection   \n",
       "\n",
       "                                        Consumer_complaint  category_id  \n",
       "808230   On XX/XX/2020, I submitted our mortgage paymen...            0  \n",
       "918222   For the past 6 years my mortgage payment inclu...            1  \n",
       "892570   I called Prosper to understand the interested ...            2  \n",
       "1163069  I have been a loyal customer of XXXX XXXX for ...            3  \n",
       "522766   A few months I sent Diversified Consultnts a l...            4  "
      ]
     },
     "execution_count": 15,
     "metadata": {},
     "output_type": "execute_result"
    }
   ],
   "source": [
    "# Dictionaries for future use\n",
    "category_to_id = dict(category_id_df.values)\n",
    "id_to_category = dict(category_id_df[['category_id', 'Product']].values)\n",
    "# New dataframe\n",
    "df2.head()"
   ]
  },
  {
   "cell_type": "code",
   "execution_count": 16,
   "id": "943b1add",
   "metadata": {},
   "outputs": [
    {
     "data": {
      "image/png": "[encoded data removed]",
      "text/plain": [
       "<Figure size 504x360 with 1 Axes>"
      ]
     },
     "metadata": {
      "needs_background": "light"
     },
     "output_type": "display_data"
    }
   ],
   "source": [
    "fig = plt.figure(figsize=(7,5))\n",
    "colors = ['grey','grey','grey','grey','grey','grey','grey','grey','grey',\n",
    "    'grey','red','red','red']\n",
    "df2.groupby('Product').Consumer_complaint.count().sort_values().plot.barh(\n",
    "    ylim=0, color=colors, title= 'NUMBER OF COMPLAINTS IN EACH PRODUCT CATEGORY')\n",
    "plt.xlabel('Number of ocurrences', fontsize = 11);"
   ]
  },
  {
   "cell_type": "markdown",
   "id": "5bb3855d",
   "metadata": {},
   "source": [
    "### Building Model"
   ]
  },
  {
   "cell_type": "code",
   "execution_count": 17,
   "id": "5b973d88",
   "metadata": {},
   "outputs": [],
   "source": [
    "#importing from sklearn libraries \n",
    "from sklearn.feature_extraction.text import TfidfVectorizer\n",
    "from sklearn.feature_selection import chi2\n",
    "from IPython.display import display\n",
    "from sklearn.model_selection import train_test_split\n",
    "from sklearn.feature_extraction.text import TfidfTransformer\n",
    "from sklearn.naive_bayes import MultinomialNB\n",
    "from sklearn.linear_model import LogisticRegression\n",
    "from sklearn.ensemble import RandomForestClassifier\n",
    "from sklearn.svm import LinearSVC\n",
    "from sklearn.model_selection import cross_val_score\n",
    "from sklearn.metrics import confusion_matrix\n",
    "from sklearn import metrics"
   ]
  },
  {
   "cell_type": "code",
   "execution_count": 18,
   "id": "90d33dc3",
   "metadata": {},
   "outputs": [
    {
     "name": "stdout",
     "output_type": "stream",
     "text": [
      "Each of the 10000 complaints is represented by 27890 features (TF-IDF score of unigrams and bigrams)\n"
     ]
    }
   ],
   "source": [
    "tfidf = TfidfVectorizer(sublinear_tf=True, min_df=5,\n",
    "                        ngram_range=(1, 2), \n",
    "                        stop_words='english')\n",
    "# We transform each complaint into a vector\n",
    "features = tfidf.fit_transform(df2.Consumer_complaint).toarray()\n",
    "labels = df2.category_id\n",
    "print(\"Each of the %d complaints is represented by %d features (TF-IDF score of unigrams and bigrams)\" %(features.shape))"
   ]
  },
  {
   "cell_type": "code",
   "execution_count": 19,
   "id": "188f038e",
   "metadata": {},
   "outputs": [
    {
     "name": "stdout",
     "output_type": "stream",
     "text": [
      "n==> Bank account or service:\n",
      "  * Most Correlated Unigrams are: promotion, overdraft, citigold\n",
      "  * Most Correlated Bigrams are: bonus xxxx, promotion code, citigold checking\n",
      "n==> Checking or savings account:\n",
      "  * Most Correlated Unigrams are: deposit, bank, atm\n",
      "  * Most Correlated Bigrams are: 00 bonus, savings account, checking account\n",
      "n==> Consumer Loan:\n",
      "  * Most Correlated Unigrams are: dealership, vehicle, car\n",
      "  * Most Correlated Bigrams are: dealer services, xxxx dealership, motor credit\n",
      "n==> Credit card or prepaid card:\n",
      "  * Most Correlated Unigrams are: rewards, citi, card\n",
      "  * Most Correlated Bigrams are: balance transfer, american express, credit card\n",
      "n==> Credit reporting, repair, or other:\n",
      "  * Most Correlated Unigrams are: experian, equifax, report\n",
      "  * Most Correlated Bigrams are: credit reporting, identity theft, credit report\n",
      "n==> Debt collection:\n",
      "  * Most Correlated Unigrams are: collect, collection, debt\n",
      "  * Most Correlated Bigrams are: debt collection, collection agency, collect debt\n",
      "n==> Money transfer, virtual currency, or money service:\n",
      "  * Most Correlated Unigrams are: bitcoin, coinbase, paypal\n",
      "  * Most Correlated Bigrams are: paypal account, coinbase support, paypal xxxx\n",
      "n==> Money transfers:\n",
      "  * Most Correlated Unigrams are: western, banned, moneygram\n",
      "  * Most Correlated Bigrams are: attempted purchase, refused honor, western union\n",
      "n==> Mortgage:\n",
      "  * Most Correlated Unigrams are: escrow, modification, mortgage\n",
      "  * Most Correlated Bigrams are: escrow account, mortgage company, loan modification\n",
      "n==> Other financial service:\n",
      "  * Most Correlated Unigrams are: 91, silent, tour\n",
      "  * Most Correlated Bigrams are: information refusing, touch xxxx, stayed phone\n",
      "n==> Payday loan, title loan, or personal loan:\n",
      "  * Most Correlated Unigrams are: usury, loan, payday\n",
      "  * Most Correlated Bigrams are: online payday, speedy cash, payday loan\n",
      "n==> Student loan:\n",
      "  * Most Correlated Unigrams are: student, loans, navient\n",
      "  * Most Correlated Bigrams are: income based, student loans, student loan\n",
      "n==> Vehicle loan or lease:\n",
      "  * Most Correlated Unigrams are: repossessed, vehicle, car\n",
      "  * Most Correlated Bigrams are: chrysler capital, santander consumer, repossessed car\n"
     ]
    }
   ],
   "source": [
    "# Finding the three most correlated terms with each of the product categories\n",
    "N = 3\n",
    "for Product, category_id in sorted(category_to_id.items()):\n",
    "  features_chi2 = chi2(features, labels == category_id)\n",
    "  indices = np.argsort(features_chi2[0])\n",
    "  feature_names = np.array(tfidf.get_feature_names())[indices]\n",
    "  unigrams = [v for v in feature_names if len(v.split(' ')) == 1]\n",
    "  bigrams = [v for v in feature_names if len(v.split(' ')) == 2]\n",
    "  print(\"n==> %s:\" %(Product))\n",
    "  print(\"  * Most Correlated Unigrams are: %s\" %(', '.join(unigrams[-N:])))\n",
    "  print(\"  * Most Correlated Bigrams are: %s\" %(', '.join(bigrams[-N:])))"
   ]
  },
  {
   "cell_type": "markdown",
   "id": "cf8243aa",
   "metadata": {},
   "source": [
    "# Multi-classification Models"
   ]
  },
  {
   "cell_type": "code",
   "execution_count": 20,
   "id": "a563fdbb",
   "metadata": {},
   "outputs": [],
   "source": [
    "X = df2['Consumer_complaint'] # Collection of documents\n",
    "y = df2['Product'] # Target or the labels we want to predict (i.e., the 13 different complaints of products)\n",
    "X_train, X_test, y_train, y_test = train_test_split(X, y, \n",
    "                                                    test_size=0.25,\n",
    "                                                    random_state = 0)"
   ]
  },
  {
   "cell_type": "code",
   "execution_count": 21,
   "id": "643e2072",
   "metadata": {},
   "outputs": [],
   "source": [
    "models = [\n",
    "    RandomForestClassifier(n_estimators=100, max_depth=5, random_state=0),\n",
    "    MultinomialNB()\n",
    "]"
   ]
  },
  {
   "cell_type": "code",
   "execution_count": 31,
   "id": "b37292f2",
   "metadata": {},
   "outputs": [],
   "source": [
    "# 5 Cross-validation\n",
    "CV = 5\n",
    "cv_df = pd.DataFrame(index=range(CV * len(models)))"
   ]
  },
  {
   "cell_type": "code",
   "execution_count": 32,
   "id": "59e7e706",
   "metadata": {},
   "outputs": [
    {
     "name": "stderr",
     "output_type": "stream",
     "text": [
      "C:\\Users\\pande\\anaconda3\\lib\\site-packages\\sklearn\\model_selection\\_split.py:666: UserWarning: The least populated class in y has only 3 members, which is less than n_splits=5.\n",
      "  warnings.warn((\"The least populated class in y has only %d\"\n",
      "C:\\Users\\pande\\anaconda3\\lib\\site-packages\\sklearn\\model_selection\\_split.py:666: UserWarning: The least populated class in y has only 3 members, which is less than n_splits=5.\n",
      "  warnings.warn((\"The least populated class in y has only %d\"\n"
     ]
    }
   ],
   "source": [
    "entries = []\n",
    "for model in models:\n",
    "  model_name = model.__class__.__name__\n",
    "  accuracies = cross_val_score(model, features, labels, scoring='accuracy', cv=CV)\n",
    "  for fold_idx, accuracy in enumerate(accuracies):\n",
    "    entries.append((model_name, fold_idx, accuracy))\n",
    "cv_df = pd.DataFrame(entries, columns=['model_name', 'fold_idx', 'accuracy'])"
   ]
  },
  {
   "cell_type": "markdown",
   "id": "f9bd0f8c",
   "metadata": {},
   "source": [
    "### Compare Text Classification Model performance"
   ]
  },
  {
   "cell_type": "code",
   "execution_count": 33,
   "id": "6e5da48b",
   "metadata": {
    "scrolled": true
   },
   "outputs": [
    {
     "data": {
      "text/html": [
       "<div>\n",
       "<style scoped>\n",
       "    .dataframe tbody tr th:only-of-type {\n",
       "        vertical-align: middle;\n",
       "    }\n",
       "\n",
       "    .dataframe tbody tr th {\n",
       "        vertical-align: top;\n",
       "    }\n",
       "\n",
       "    .dataframe thead th {\n",
       "        text-align: right;\n",
       "    }\n",
       "</style>\n",
       "<table border=\"1\" class=\"dataframe\">\n",
       "  <thead>\n",
       "    <tr style=\"text-align: right;\">\n",
       "      <th></th>\n",
       "      <th>Mean Accuracy</th>\n",
       "      <th>Standard deviation</th>\n",
       "    </tr>\n",
       "    <tr>\n",
       "      <th>model_name</th>\n",
       "      <th></th>\n",
       "      <th></th>\n",
       "    </tr>\n",
       "  </thead>\n",
       "  <tbody>\n",
       "    <tr>\n",
       "      <th>MultinomialNB</th>\n",
       "      <td>0.6243</td>\n",
       "      <td>0.008243</td>\n",
       "    </tr>\n",
       "    <tr>\n",
       "      <th>RandomForestClassifier</th>\n",
       "      <td>0.4384</td>\n",
       "      <td>0.001432</td>\n",
       "    </tr>\n",
       "  </tbody>\n",
       "</table>\n",
       "</div>"
      ],
      "text/plain": [
       "                        Mean Accuracy  Standard deviation\n",
       "model_name                                               \n",
       "MultinomialNB                  0.6243            0.008243\n",
       "RandomForestClassifier         0.4384            0.001432"
      ]
     },
     "execution_count": 33,
     "metadata": {},
     "output_type": "execute_result"
    }
   ],
   "source": [
    "# comparing the ‘Mean Accuracy’ and ‘Standard Deviation’ for each of the four classification algorithms.\n",
    "mean_accuracy = cv_df.groupby('model_name').accuracy.mean()\n",
    "std_accuracy = cv_df.groupby('model_name').accuracy.std()\n",
    "\n",
    "acc = pd.concat([mean_accuracy, std_accuracy], axis= 1, \n",
    "          ignore_index=True)\n",
    "acc.columns = ['Mean Accuracy', 'Standard deviation']\n",
    "acc"
   ]
  },
  {
   "cell_type": "markdown",
   "id": "419eef0b",
   "metadata": {},
   "source": [
    "### Evaluating Text Classification Model"
   ]
  },
  {
   "cell_type": "code",
   "execution_count": 28,
   "id": "f7d56c83",
   "metadata": {},
   "outputs": [
    {
     "name": "stderr",
     "output_type": "stream",
     "text": [
      "C:\\Users\\pande\\anaconda3\\lib\\site-packages\\sklearn\\metrics\\_classification.py:1248: UndefinedMetricWarning: Precision and F-score are ill-defined and being set to 0.0 in labels with no predicted samples. Use `zero_division` parameter to control this behavior.\n",
      "  _warn_prf(average, modifier, msg_start, len(result))\n"
     ]
    },
    {
     "name": "stdout",
     "output_type": "stream",
     "text": [
      "              precision    recall  f1-score   support\n",
      "\n",
      "           0       0.84      0.90      0.87      1073\n",
      "           1       0.87      0.94      0.90       248\n",
      "           2       1.00      0.11      0.20        44\n",
      "           3       0.73      0.80      0.76       236\n",
      "           4       0.78      0.75      0.77       505\n",
      "           5       0.25      0.04      0.06        28\n",
      "           6       0.81      0.79      0.80        84\n",
      "           7       0.74      0.70      0.72        69\n",
      "           8       0.54      0.58      0.56       124\n",
      "           9       0.64      0.17      0.27        52\n",
      "          10       0.33      0.29      0.31        34\n",
      "          11       0.00      0.00      0.00         3\n",
      "\n",
      "    accuracy                           0.79      2500\n",
      "   macro avg       0.63      0.51      0.52      2500\n",
      "weighted avg       0.79      0.79      0.78      2500\n",
      "\n"
     ]
    },
    {
     "name": "stderr",
     "output_type": "stream",
     "text": [
      "C:\\Users\\pande\\anaconda3\\lib\\site-packages\\sklearn\\metrics\\_classification.py:1248: UndefinedMetricWarning: Precision and F-score are ill-defined and being set to 0.0 in labels with no predicted samples. Use `zero_division` parameter to control this behavior.\n",
      "  _warn_prf(average, modifier, msg_start, len(result))\n",
      "C:\\Users\\pande\\anaconda3\\lib\\site-packages\\sklearn\\metrics\\_classification.py:1248: UndefinedMetricWarning: Precision and F-score are ill-defined and being set to 0.0 in labels with no predicted samples. Use `zero_division` parameter to control this behavior.\n",
      "  _warn_prf(average, modifier, msg_start, len(result))\n"
     ]
    }
   ],
   "source": [
    "print(classification_report(y_test,y_pred))"
   ]
  },
  {
   "cell_type": "markdown",
   "id": "6691a994",
   "metadata": {},
   "source": [
    "#### The categories which yield better classification results are ‘Student loan’, ‘Mortgage’ and ‘Credit reporting, repair, or other’. \n",
    "#### The class such as ‘Debt collection’ and ‘credit card or prepaid card’ can also give better results."
   ]
  },
  {
   "cell_type": "code",
   "execution_count": 34,
   "id": "e404be83",
   "metadata": {},
   "outputs": [
    {
     "data": {
      "image/png": "[encoded data removed]",
      "text/plain": [
       "<Figure size 648x648 with 2 Axes>"
      ]
     },
     "metadata": {
      "needs_background": "light"
     },
     "output_type": "display_data"
    }
   ],
   "source": [
    "conf_mat = confusion_matrix(y_test, y_pred)\n",
    "fig, ax = plt.subplots(figsize=(9,9))\n",
    "sns.heatmap(conf_mat, annot=True, cmap=\"Blues\", fmt='d',\n",
    "            xticklabels=category_id_df.Product.values, \n",
    "            yticklabels=category_id_df.Product.values)\n",
    "plt.ylabel('Actual')\n",
    "plt.xlabel('Predicted')\n",
    "plt.title(\"CONFUSION MATRIX - LinearSVCn\", size=16);"
   ]
  },
  {
   "cell_type": "code",
   "execution_count": null,
   "id": "ce3e332d",
   "metadata": {},
   "outputs": [],
   "source": []
  }
 ],
 "metadata": {
  "kernelspec": {
   "display_name": "Python 3 (ipykernel)",
   "language": "python",
   "name": "python3"
  },
  "language_info": {
   "codemirror_mode": {
    "name": "ipython",
    "version": 3
   },
   "file_extension": ".py",
   "mimetype": "text/x-python",
   "name": "python",
   "nbconvert_exporter": "python",
   "pygments_lexer": "ipython3",
   "version": "3.9.7"
  }
 },
 "nbformat": 4,
 "nbformat_minor": 5
}
