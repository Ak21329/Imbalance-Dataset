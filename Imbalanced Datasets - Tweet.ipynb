{
 "cells": [
  {
   "cell_type": "markdown",
   "id": "58228dba",
   "metadata": {},
   "source": [
    "### Data Preprocessing"
   ]
  },
  {
   "cell_type": "markdown",
   "id": "ca6f88e2",
   "metadata": {},
   "source": [
    "#### Importing Necessary Libraries"
   ]
  },
  {
   "cell_type": "code",
   "execution_count": 1,
   "id": "41cb5b4b",
   "metadata": {},
   "outputs": [],
   "source": [
    "# Importing required lib\n",
    "import pandas as pd\n",
    "import numpy as np\n",
    "import random\n",
    "import string\n",
    "import re\n",
    "import matplotlib.pyplot as plt\n",
    "import seaborn as sns\n",
    "%matplotlib inline"
   ]
  },
  {
   "cell_type": "markdown",
   "id": "69daac0f",
   "metadata": {},
   "source": [
    "#### Reading Dataset"
   ]
  },
  {
   "cell_type": "code",
   "execution_count": 2,
   "id": "14b148e2",
   "metadata": {},
   "outputs": [],
   "source": [
    "# Reading Tweet data which is in csv format\n",
    "data_out = pd.read_csv(\"Tweets.csv\")"
   ]
  },
  {
   "cell_type": "code",
   "execution_count": 3,
   "id": "8e5ee655",
   "metadata": {
    "scrolled": true
   },
   "outputs": [
    {
     "data": {
      "text/html": [
       "<div>\n",
       "<style scoped>\n",
       "    .dataframe tbody tr th:only-of-type {\n",
       "        vertical-align: middle;\n",
       "    }\n",
       "\n",
       "    .dataframe tbody tr th {\n",
       "        vertical-align: top;\n",
       "    }\n",
       "\n",
       "    .dataframe thead th {\n",
       "        text-align: right;\n",
       "    }\n",
       "</style>\n",
       "<table border=\"1\" class=\"dataframe\">\n",
       "  <thead>\n",
       "    <tr style=\"text-align: right;\">\n",
       "      <th></th>\n",
       "      <th>tweet_id</th>\n",
       "      <th>Label</th>\n",
       "      <th>airline_sentiment_confidence</th>\n",
       "      <th>negativereason</th>\n",
       "      <th>negativereason_confidence</th>\n",
       "      <th>airline</th>\n",
       "      <th>airline_sentiment_gold</th>\n",
       "      <th>name</th>\n",
       "      <th>negativereason_gold</th>\n",
       "      <th>retweet_count</th>\n",
       "      <th>text</th>\n",
       "      <th>tweet_coord</th>\n",
       "      <th>tweet_created</th>\n",
       "      <th>tweet_location</th>\n",
       "      <th>user_timezone</th>\n",
       "    </tr>\n",
       "  </thead>\n",
       "  <tbody>\n",
       "    <tr>\n",
       "      <th>0</th>\n",
       "      <td>5.700000e+17</td>\n",
       "      <td>neutral</td>\n",
       "      <td>1.0000</td>\n",
       "      <td>NaN</td>\n",
       "      <td>NaN</td>\n",
       "      <td>Virgin America</td>\n",
       "      <td>NaN</td>\n",
       "      <td>cairdin</td>\n",
       "      <td>NaN</td>\n",
       "      <td>0</td>\n",
       "      <td>@VirginAmerica What @dhepburn said.</td>\n",
       "      <td>NaN</td>\n",
       "      <td>24-02-2015 11:35</td>\n",
       "      <td>NaN</td>\n",
       "      <td>Eastern Time (US &amp; Canada)</td>\n",
       "    </tr>\n",
       "    <tr>\n",
       "      <th>1</th>\n",
       "      <td>5.700000e+17</td>\n",
       "      <td>positive</td>\n",
       "      <td>0.3486</td>\n",
       "      <td>NaN</td>\n",
       "      <td>0.0</td>\n",
       "      <td>Virgin America</td>\n",
       "      <td>NaN</td>\n",
       "      <td>jnardino</td>\n",
       "      <td>NaN</td>\n",
       "      <td>0</td>\n",
       "      <td>@VirginAmerica plus you've added commercials t...</td>\n",
       "      <td>NaN</td>\n",
       "      <td>24-02-2015 11:15</td>\n",
       "      <td>NaN</td>\n",
       "      <td>Pacific Time (US &amp; Canada)</td>\n",
       "    </tr>\n",
       "    <tr>\n",
       "      <th>2</th>\n",
       "      <td>5.700000e+17</td>\n",
       "      <td>neutral</td>\n",
       "      <td>0.6837</td>\n",
       "      <td>NaN</td>\n",
       "      <td>NaN</td>\n",
       "      <td>Virgin America</td>\n",
       "      <td>NaN</td>\n",
       "      <td>yvonnalynn</td>\n",
       "      <td>NaN</td>\n",
       "      <td>0</td>\n",
       "      <td>@VirginAmerica I didn't today... Must mean I n...</td>\n",
       "      <td>NaN</td>\n",
       "      <td>24-02-2015 11:15</td>\n",
       "      <td>Lets Play</td>\n",
       "      <td>Central Time (US &amp; Canada)</td>\n",
       "    </tr>\n",
       "    <tr>\n",
       "      <th>3</th>\n",
       "      <td>5.700000e+17</td>\n",
       "      <td>positive</td>\n",
       "      <td>0.6745</td>\n",
       "      <td>NaN</td>\n",
       "      <td>0.0</td>\n",
       "      <td>Virgin America</td>\n",
       "      <td>NaN</td>\n",
       "      <td>cjmcginnis</td>\n",
       "      <td>NaN</td>\n",
       "      <td>0</td>\n",
       "      <td>@VirginAmerica yes, nearly every time I fly VX...</td>\n",
       "      <td>NaN</td>\n",
       "      <td>24-02-2015 11:13</td>\n",
       "      <td>San Francisco CA</td>\n",
       "      <td>Pacific Time (US &amp; Canada)</td>\n",
       "    </tr>\n",
       "    <tr>\n",
       "      <th>4</th>\n",
       "      <td>5.700000e+17</td>\n",
       "      <td>neutral</td>\n",
       "      <td>0.6340</td>\n",
       "      <td>NaN</td>\n",
       "      <td>NaN</td>\n",
       "      <td>Virgin America</td>\n",
       "      <td>NaN</td>\n",
       "      <td>pilot</td>\n",
       "      <td>NaN</td>\n",
       "      <td>0</td>\n",
       "      <td>@VirginAmerica Really missed a prime opportuni...</td>\n",
       "      <td>NaN</td>\n",
       "      <td>24-02-2015 11:12</td>\n",
       "      <td>Los Angeles</td>\n",
       "      <td>Pacific Time (US &amp; Canada)</td>\n",
       "    </tr>\n",
       "    <tr>\n",
       "      <th>5</th>\n",
       "      <td>5.700000e+17</td>\n",
       "      <td>positive</td>\n",
       "      <td>0.6559</td>\n",
       "      <td>NaN</td>\n",
       "      <td>NaN</td>\n",
       "      <td>Virgin America</td>\n",
       "      <td>NaN</td>\n",
       "      <td>dhepburn</td>\n",
       "      <td>NaN</td>\n",
       "      <td>0</td>\n",
       "      <td>@virginamerica Well, I didn't…but NOW I DO! :-D</td>\n",
       "      <td>NaN</td>\n",
       "      <td>24-02-2015 11:11</td>\n",
       "      <td>San Diego</td>\n",
       "      <td>Pacific Time (US &amp; Canada)</td>\n",
       "    </tr>\n",
       "    <tr>\n",
       "      <th>6</th>\n",
       "      <td>5.700000e+17</td>\n",
       "      <td>positive</td>\n",
       "      <td>1.0000</td>\n",
       "      <td>NaN</td>\n",
       "      <td>NaN</td>\n",
       "      <td>Virgin America</td>\n",
       "      <td>NaN</td>\n",
       "      <td>YupitsTate</td>\n",
       "      <td>NaN</td>\n",
       "      <td>0</td>\n",
       "      <td>@VirginAmerica it was amazing, and arrived an ...</td>\n",
       "      <td>NaN</td>\n",
       "      <td>24-02-2015 10:53</td>\n",
       "      <td>Los Angeles</td>\n",
       "      <td>Eastern Time (US &amp; Canada)</td>\n",
       "    </tr>\n",
       "    <tr>\n",
       "      <th>7</th>\n",
       "      <td>5.700000e+17</td>\n",
       "      <td>neutral</td>\n",
       "      <td>0.6769</td>\n",
       "      <td>NaN</td>\n",
       "      <td>0.0</td>\n",
       "      <td>Virgin America</td>\n",
       "      <td>NaN</td>\n",
       "      <td>idk_but_youtube</td>\n",
       "      <td>NaN</td>\n",
       "      <td>0</td>\n",
       "      <td>@VirginAmerica did you know that suicide is th...</td>\n",
       "      <td>NaN</td>\n",
       "      <td>24-02-2015 10:48</td>\n",
       "      <td>1/1 loner squad</td>\n",
       "      <td>Eastern Time (US &amp; Canada)</td>\n",
       "    </tr>\n",
       "    <tr>\n",
       "      <th>8</th>\n",
       "      <td>5.700000e+17</td>\n",
       "      <td>positive</td>\n",
       "      <td>1.0000</td>\n",
       "      <td>NaN</td>\n",
       "      <td>NaN</td>\n",
       "      <td>Virgin America</td>\n",
       "      <td>NaN</td>\n",
       "      <td>HyperCamiLax</td>\n",
       "      <td>NaN</td>\n",
       "      <td>0</td>\n",
       "      <td>@VirginAmerica I &amp;lt;3 pretty graphics. so muc...</td>\n",
       "      <td>NaN</td>\n",
       "      <td>24-02-2015 10:30</td>\n",
       "      <td>NYC</td>\n",
       "      <td>America/New_York</td>\n",
       "    </tr>\n",
       "    <tr>\n",
       "      <th>9</th>\n",
       "      <td>5.700000e+17</td>\n",
       "      <td>positive</td>\n",
       "      <td>1.0000</td>\n",
       "      <td>NaN</td>\n",
       "      <td>NaN</td>\n",
       "      <td>Virgin America</td>\n",
       "      <td>NaN</td>\n",
       "      <td>HyperCamiLax</td>\n",
       "      <td>NaN</td>\n",
       "      <td>0</td>\n",
       "      <td>@VirginAmerica This is such a great deal! Alre...</td>\n",
       "      <td>NaN</td>\n",
       "      <td>24-02-2015 10:30</td>\n",
       "      <td>NYC</td>\n",
       "      <td>America/New_York</td>\n",
       "    </tr>\n",
       "  </tbody>\n",
       "</table>\n",
       "</div>"
      ],
      "text/plain": [
       "       tweet_id     Label  airline_sentiment_confidence negativereason  \\\n",
       "0  5.700000e+17   neutral                        1.0000            NaN   \n",
       "1  5.700000e+17  positive                        0.3486            NaN   \n",
       "2  5.700000e+17   neutral                        0.6837            NaN   \n",
       "3  5.700000e+17  positive                        0.6745            NaN   \n",
       "4  5.700000e+17   neutral                        0.6340            NaN   \n",
       "5  5.700000e+17  positive                        0.6559            NaN   \n",
       "6  5.700000e+17  positive                        1.0000            NaN   \n",
       "7  5.700000e+17   neutral                        0.6769            NaN   \n",
       "8  5.700000e+17  positive                        1.0000            NaN   \n",
       "9  5.700000e+17  positive                        1.0000            NaN   \n",
       "\n",
       "   negativereason_confidence         airline airline_sentiment_gold  \\\n",
       "0                        NaN  Virgin America                    NaN   \n",
       "1                        0.0  Virgin America                    NaN   \n",
       "2                        NaN  Virgin America                    NaN   \n",
       "3                        0.0  Virgin America                    NaN   \n",
       "4                        NaN  Virgin America                    NaN   \n",
       "5                        NaN  Virgin America                    NaN   \n",
       "6                        NaN  Virgin America                    NaN   \n",
       "7                        0.0  Virgin America                    NaN   \n",
       "8                        NaN  Virgin America                    NaN   \n",
       "9                        NaN  Virgin America                    NaN   \n",
       "\n",
       "              name negativereason_gold  retweet_count  \\\n",
       "0          cairdin                 NaN              0   \n",
       "1         jnardino                 NaN              0   \n",
       "2       yvonnalynn                 NaN              0   \n",
       "3       cjmcginnis                 NaN              0   \n",
       "4            pilot                 NaN              0   \n",
       "5         dhepburn                 NaN              0   \n",
       "6       YupitsTate                 NaN              0   \n",
       "7  idk_but_youtube                 NaN              0   \n",
       "8     HyperCamiLax                 NaN              0   \n",
       "9     HyperCamiLax                 NaN              0   \n",
       "\n",
       "                                                text tweet_coord  \\\n",
       "0                @VirginAmerica What @dhepburn said.         NaN   \n",
       "1  @VirginAmerica plus you've added commercials t...         NaN   \n",
       "2  @VirginAmerica I didn't today... Must mean I n...         NaN   \n",
       "3  @VirginAmerica yes, nearly every time I fly VX...         NaN   \n",
       "4  @VirginAmerica Really missed a prime opportuni...         NaN   \n",
       "5    @virginamerica Well, I didn't…but NOW I DO! :-D         NaN   \n",
       "6  @VirginAmerica it was amazing, and arrived an ...         NaN   \n",
       "7  @VirginAmerica did you know that suicide is th...         NaN   \n",
       "8  @VirginAmerica I &lt;3 pretty graphics. so muc...         NaN   \n",
       "9  @VirginAmerica This is such a great deal! Alre...         NaN   \n",
       "\n",
       "      tweet_created    tweet_location               user_timezone  \n",
       "0  24-02-2015 11:35               NaN  Eastern Time (US & Canada)  \n",
       "1  24-02-2015 11:15               NaN  Pacific Time (US & Canada)  \n",
       "2  24-02-2015 11:15         Lets Play  Central Time (US & Canada)  \n",
       "3  24-02-2015 11:13  San Francisco CA  Pacific Time (US & Canada)  \n",
       "4  24-02-2015 11:12       Los Angeles  Pacific Time (US & Canada)  \n",
       "5  24-02-2015 11:11         San Diego  Pacific Time (US & Canada)  \n",
       "6  24-02-2015 10:53       Los Angeles  Eastern Time (US & Canada)  \n",
       "7  24-02-2015 10:48   1/1 loner squad  Eastern Time (US & Canada)  \n",
       "8  24-02-2015 10:30               NYC            America/New_York  \n",
       "9  24-02-2015 10:30               NYC            America/New_York  "
      ]
     },
     "execution_count": 3,
     "metadata": {},
     "output_type": "execute_result"
    }
   ],
   "source": [
    "#this will help us to see 10 data from upside\n",
    "data_out.head(10)"
   ]
  },
  {
   "cell_type": "code",
   "execution_count": 4,
   "id": "aad3b48a",
   "metadata": {},
   "outputs": [
    {
     "data": {
      "text/plain": [
       "(14505, 15)"
      ]
     },
     "execution_count": 4,
     "metadata": {},
     "output_type": "execute_result"
    }
   ],
   "source": [
    "# This helps to see number of rows and number of columns\n",
    "data_out.shape"
   ]
  },
  {
   "cell_type": "code",
   "execution_count": 5,
   "id": "76d5c217",
   "metadata": {},
   "outputs": [
    {
     "name": "stdout",
     "output_type": "stream",
     "text": [
      "<class 'pandas.core.frame.DataFrame'>\n",
      "RangeIndex: 14505 entries, 0 to 14504\n",
      "Data columns (total 15 columns):\n",
      " #   Column                        Non-Null Count  Dtype  \n",
      "---  ------                        --------------  -----  \n",
      " 0   tweet_id                      14505 non-null  float64\n",
      " 1   Label                         14505 non-null  object \n",
      " 2   airline_sentiment_confidence  14505 non-null  float64\n",
      " 3   negativereason                9043 non-null   object \n",
      " 4   negativereason_confidence     10387 non-null  float64\n",
      " 5   airline                       14505 non-null  object \n",
      " 6   airline_sentiment_gold        40 non-null     object \n",
      " 7   name                          14505 non-null  object \n",
      " 8   negativereason_gold           32 non-null     object \n",
      " 9   retweet_count                 14505 non-null  int64  \n",
      " 10  text                          14505 non-null  object \n",
      " 11  tweet_coord                   1004 non-null   object \n",
      " 12  tweet_created                 14505 non-null  object \n",
      " 13  tweet_location                9814 non-null   object \n",
      " 14  user_timezone                 9711 non-null   object \n",
      "dtypes: float64(3), int64(1), object(11)\n",
      "memory usage: 1.7+ MB\n"
     ]
    }
   ],
   "source": [
    "# This helps us to know Data type, count and we can see if the data is Null\n",
    "data_out.info()"
   ]
  },
  {
   "cell_type": "code",
   "execution_count": 6,
   "id": "395ab7e8",
   "metadata": {},
   "outputs": [
    {
     "data": {
      "text/plain": [
       "tweet_id                        float64\n",
       "Label                            object\n",
       "airline_sentiment_confidence    float64\n",
       "negativereason                   object\n",
       "negativereason_confidence       float64\n",
       "airline                          object\n",
       "airline_sentiment_gold           object\n",
       "name                             object\n",
       "negativereason_gold              object\n",
       "retweet_count                     int64\n",
       "text                             object\n",
       "tweet_coord                      object\n",
       "tweet_created                    object\n",
       "tweet_location                   object\n",
       "user_timezone                    object\n",
       "dtype: object"
      ]
     },
     "execution_count": 6,
     "metadata": {},
     "output_type": "execute_result"
    }
   ],
   "source": [
    "# to See data type of each column\n",
    "data_out.dtypes"
   ]
  },
  {
   "cell_type": "code",
   "execution_count": 7,
   "id": "84a947fb",
   "metadata": {},
   "outputs": [
    {
     "name": "stdout",
     "output_type": "stream",
     "text": [
      "Number of columns :   15\n",
      "Number of rows :   14505\n"
     ]
    }
   ],
   "source": [
    "# To see number of rows and number of cloumns\n",
    "print('Number of columns :  ', len(data_out.columns))\n",
    "print('Number of rows :  ', len(data_out))"
   ]
  },
  {
   "cell_type": "markdown",
   "id": "3a19ba43",
   "metadata": {},
   "source": [
    "#### Labeled Data Count"
   ]
  },
  {
   "cell_type": "code",
   "execution_count": 8,
   "id": "69fade4d",
   "metadata": {},
   "outputs": [
    {
     "data": {
      "text/plain": [
       "negative    9043\n",
       "neutral     3099\n",
       "positive    2363\n",
       "Name: Label, dtype: int64"
      ]
     },
     "execution_count": 8,
     "metadata": {},
     "output_type": "execute_result"
    }
   ],
   "source": [
    "data_out[\"Label\"].value_counts()"
   ]
  },
  {
   "cell_type": "markdown",
   "id": "564bf997",
   "metadata": {},
   "source": [
    "#### Checking how many data present in each class"
   ]
  },
  {
   "cell_type": "code",
   "execution_count": 9,
   "id": "c412a0f9",
   "metadata": {
    "scrolled": false
   },
   "outputs": [
    {
     "data": {
      "text/plain": [
       "<AxesSubplot:xlabel='Label', ylabel='count'>"
      ]
     },
     "execution_count": 9,
     "metadata": {},
     "output_type": "execute_result"
    },
    {
     "data": {
      "image/png": "[encoded data removed]",
      "text/plain": [
       "<Figure size 864x432 with 1 Axes>"
      ]
     },
     "metadata": {
      "needs_background": "light"
     },
     "output_type": "display_data"
    }
   ],
   "source": [
    "# Plotiing in categorical\n",
    "plt.figure(figsize=(12,6))\n",
    "sns.countplot(x='Label',data=data_out)"
   ]
  },
  {
   "cell_type": "markdown",
   "id": "4152a294",
   "metadata": {},
   "source": [
    "#### Dropping the unwanted columns"
   ]
  },
  {
   "cell_type": "code",
   "execution_count": 10,
   "id": "a9cab3b0",
   "metadata": {},
   "outputs": [],
   "source": [
    "output = data_out.drop(labels=['tweet_id', 'airline_sentiment_confidence', 'negativereason', 'negativereason_confidence', \n",
    "                               'airline','airline_sentiment_gold','name','negativereason_gold','retweet_count','tweet_coord',\n",
    "                               'tweet_created','tweet_location','user_timezone'], axis=1)"
   ]
  },
  {
   "cell_type": "code",
   "execution_count": 11,
   "id": "836463d3",
   "metadata": {
    "scrolled": true
   },
   "outputs": [
    {
     "data": {
      "text/html": [
       "<div>\n",
       "<style scoped>\n",
       "    .dataframe tbody tr th:only-of-type {\n",
       "        vertical-align: middle;\n",
       "    }\n",
       "\n",
       "    .dataframe tbody tr th {\n",
       "        vertical-align: top;\n",
       "    }\n",
       "\n",
       "    .dataframe thead th {\n",
       "        text-align: right;\n",
       "    }\n",
       "</style>\n",
       "<table border=\"1\" class=\"dataframe\">\n",
       "  <thead>\n",
       "    <tr style=\"text-align: right;\">\n",
       "      <th></th>\n",
       "      <th>Label</th>\n",
       "      <th>text</th>\n",
       "    </tr>\n",
       "  </thead>\n",
       "  <tbody>\n",
       "    <tr>\n",
       "      <th>0</th>\n",
       "      <td>neutral</td>\n",
       "      <td>@VirginAmerica What @dhepburn said.</td>\n",
       "    </tr>\n",
       "    <tr>\n",
       "      <th>1</th>\n",
       "      <td>positive</td>\n",
       "      <td>@VirginAmerica plus you've added commercials t...</td>\n",
       "    </tr>\n",
       "    <tr>\n",
       "      <th>2</th>\n",
       "      <td>neutral</td>\n",
       "      <td>@VirginAmerica I didn't today... Must mean I n...</td>\n",
       "    </tr>\n",
       "    <tr>\n",
       "      <th>3</th>\n",
       "      <td>positive</td>\n",
       "      <td>@VirginAmerica yes, nearly every time I fly VX...</td>\n",
       "    </tr>\n",
       "    <tr>\n",
       "      <th>4</th>\n",
       "      <td>neutral</td>\n",
       "      <td>@VirginAmerica Really missed a prime opportuni...</td>\n",
       "    </tr>\n",
       "    <tr>\n",
       "      <th>...</th>\n",
       "      <td>...</td>\n",
       "      <td>...</td>\n",
       "    </tr>\n",
       "    <tr>\n",
       "      <th>14500</th>\n",
       "      <td>positive</td>\n",
       "      <td>@AmericanAir thank you we got on a different f...</td>\n",
       "    </tr>\n",
       "    <tr>\n",
       "      <th>14501</th>\n",
       "      <td>negative</td>\n",
       "      <td>@AmericanAir leaving over 20 minutes Late Flig...</td>\n",
       "    </tr>\n",
       "    <tr>\n",
       "      <th>14502</th>\n",
       "      <td>neutral</td>\n",
       "      <td>@AmericanAir Please bring American Airlines to...</td>\n",
       "    </tr>\n",
       "    <tr>\n",
       "      <th>14503</th>\n",
       "      <td>negative</td>\n",
       "      <td>@AmericanAir you have my money, you change my ...</td>\n",
       "    </tr>\n",
       "    <tr>\n",
       "      <th>14504</th>\n",
       "      <td>neutral</td>\n",
       "      <td>@AmericanAir we have 8 ppl so we need 2 know h...</td>\n",
       "    </tr>\n",
       "  </tbody>\n",
       "</table>\n",
       "<p>14505 rows × 2 columns</p>\n",
       "</div>"
      ],
      "text/plain": [
       "          Label                                               text\n",
       "0       neutral                @VirginAmerica What @dhepburn said.\n",
       "1      positive  @VirginAmerica plus you've added commercials t...\n",
       "2       neutral  @VirginAmerica I didn't today... Must mean I n...\n",
       "3      positive  @VirginAmerica yes, nearly every time I fly VX...\n",
       "4       neutral  @VirginAmerica Really missed a prime opportuni...\n",
       "...         ...                                                ...\n",
       "14500  positive  @AmericanAir thank you we got on a different f...\n",
       "14501  negative  @AmericanAir leaving over 20 minutes Late Flig...\n",
       "14502   neutral  @AmericanAir Please bring American Airlines to...\n",
       "14503  negative  @AmericanAir you have my money, you change my ...\n",
       "14504   neutral  @AmericanAir we have 8 ppl so we need 2 know h...\n",
       "\n",
       "[14505 rows x 2 columns]"
      ]
     },
     "execution_count": 11,
     "metadata": {},
     "output_type": "execute_result"
    }
   ],
   "source": [
    "output"
   ]
  },
  {
   "cell_type": "markdown",
   "id": "72808f51",
   "metadata": {},
   "source": [
    "#### Renaming the column"
   ]
  },
  {
   "cell_type": "code",
   "execution_count": 12,
   "id": "8e3e4acb",
   "metadata": {},
   "outputs": [],
   "source": [
    "output.rename(columns = {'text':'Text'}, inplace = True)"
   ]
  },
  {
   "cell_type": "code",
   "execution_count": 13,
   "id": "f27c4f69",
   "metadata": {},
   "outputs": [
    {
     "data": {
      "text/html": [
       "<div>\n",
       "<style scoped>\n",
       "    .dataframe tbody tr th:only-of-type {\n",
       "        vertical-align: middle;\n",
       "    }\n",
       "\n",
       "    .dataframe tbody tr th {\n",
       "        vertical-align: top;\n",
       "    }\n",
       "\n",
       "    .dataframe thead th {\n",
       "        text-align: right;\n",
       "    }\n",
       "</style>\n",
       "<table border=\"1\" class=\"dataframe\">\n",
       "  <thead>\n",
       "    <tr style=\"text-align: right;\">\n",
       "      <th></th>\n",
       "      <th>Label</th>\n",
       "      <th>Text</th>\n",
       "    </tr>\n",
       "  </thead>\n",
       "  <tbody>\n",
       "    <tr>\n",
       "      <th>0</th>\n",
       "      <td>neutral</td>\n",
       "      <td>@VirginAmerica What @dhepburn said.</td>\n",
       "    </tr>\n",
       "    <tr>\n",
       "      <th>1</th>\n",
       "      <td>positive</td>\n",
       "      <td>@VirginAmerica plus you've added commercials t...</td>\n",
       "    </tr>\n",
       "    <tr>\n",
       "      <th>2</th>\n",
       "      <td>neutral</td>\n",
       "      <td>@VirginAmerica I didn't today... Must mean I n...</td>\n",
       "    </tr>\n",
       "    <tr>\n",
       "      <th>3</th>\n",
       "      <td>positive</td>\n",
       "      <td>@VirginAmerica yes, nearly every time I fly VX...</td>\n",
       "    </tr>\n",
       "    <tr>\n",
       "      <th>4</th>\n",
       "      <td>neutral</td>\n",
       "      <td>@VirginAmerica Really missed a prime opportuni...</td>\n",
       "    </tr>\n",
       "    <tr>\n",
       "      <th>...</th>\n",
       "      <td>...</td>\n",
       "      <td>...</td>\n",
       "    </tr>\n",
       "    <tr>\n",
       "      <th>14500</th>\n",
       "      <td>positive</td>\n",
       "      <td>@AmericanAir thank you we got on a different f...</td>\n",
       "    </tr>\n",
       "    <tr>\n",
       "      <th>14501</th>\n",
       "      <td>negative</td>\n",
       "      <td>@AmericanAir leaving over 20 minutes Late Flig...</td>\n",
       "    </tr>\n",
       "    <tr>\n",
       "      <th>14502</th>\n",
       "      <td>neutral</td>\n",
       "      <td>@AmericanAir Please bring American Airlines to...</td>\n",
       "    </tr>\n",
       "    <tr>\n",
       "      <th>14503</th>\n",
       "      <td>negative</td>\n",
       "      <td>@AmericanAir you have my money, you change my ...</td>\n",
       "    </tr>\n",
       "    <tr>\n",
       "      <th>14504</th>\n",
       "      <td>neutral</td>\n",
       "      <td>@AmericanAir we have 8 ppl so we need 2 know h...</td>\n",
       "    </tr>\n",
       "  </tbody>\n",
       "</table>\n",
       "<p>14505 rows × 2 columns</p>\n",
       "</div>"
      ],
      "text/plain": [
       "          Label                                               Text\n",
       "0       neutral                @VirginAmerica What @dhepburn said.\n",
       "1      positive  @VirginAmerica plus you've added commercials t...\n",
       "2       neutral  @VirginAmerica I didn't today... Must mean I n...\n",
       "3      positive  @VirginAmerica yes, nearly every time I fly VX...\n",
       "4       neutral  @VirginAmerica Really missed a prime opportuni...\n",
       "...         ...                                                ...\n",
       "14500  positive  @AmericanAir thank you we got on a different f...\n",
       "14501  negative  @AmericanAir leaving over 20 minutes Late Flig...\n",
       "14502   neutral  @AmericanAir Please bring American Airlines to...\n",
       "14503  negative  @AmericanAir you have my money, you change my ...\n",
       "14504   neutral  @AmericanAir we have 8 ppl so we need 2 know h...\n",
       "\n",
       "[14505 rows x 2 columns]"
      ]
     },
     "execution_count": 13,
     "metadata": {},
     "output_type": "execute_result"
    }
   ],
   "source": [
    "output"
   ]
  },
  {
   "cell_type": "markdown",
   "id": "67bc9088",
   "metadata": {},
   "source": [
    "#### Converting text in Lower case"
   ]
  },
  {
   "cell_type": "code",
   "execution_count": 14,
   "id": "9757027c",
   "metadata": {},
   "outputs": [],
   "source": [
    "output['Lower Tweet']=output['Text'].str.lower()"
   ]
  },
  {
   "cell_type": "code",
   "execution_count": 15,
   "id": "656374d8",
   "metadata": {
    "scrolled": true
   },
   "outputs": [
    {
     "data": {
      "text/html": [
       "<div>\n",
       "<style scoped>\n",
       "    .dataframe tbody tr th:only-of-type {\n",
       "        vertical-align: middle;\n",
       "    }\n",
       "\n",
       "    .dataframe tbody tr th {\n",
       "        vertical-align: top;\n",
       "    }\n",
       "\n",
       "    .dataframe thead th {\n",
       "        text-align: right;\n",
       "    }\n",
       "</style>\n",
       "<table border=\"1\" class=\"dataframe\">\n",
       "  <thead>\n",
       "    <tr style=\"text-align: right;\">\n",
       "      <th></th>\n",
       "      <th>Label</th>\n",
       "      <th>Text</th>\n",
       "      <th>Lower Tweet</th>\n",
       "    </tr>\n",
       "  </thead>\n",
       "  <tbody>\n",
       "    <tr>\n",
       "      <th>0</th>\n",
       "      <td>neutral</td>\n",
       "      <td>@VirginAmerica What @dhepburn said.</td>\n",
       "      <td>@virginamerica what @dhepburn said.</td>\n",
       "    </tr>\n",
       "    <tr>\n",
       "      <th>1</th>\n",
       "      <td>positive</td>\n",
       "      <td>@VirginAmerica plus you've added commercials t...</td>\n",
       "      <td>@virginamerica plus you've added commercials t...</td>\n",
       "    </tr>\n",
       "    <tr>\n",
       "      <th>2</th>\n",
       "      <td>neutral</td>\n",
       "      <td>@VirginAmerica I didn't today... Must mean I n...</td>\n",
       "      <td>@virginamerica i didn't today... must mean i n...</td>\n",
       "    </tr>\n",
       "    <tr>\n",
       "      <th>3</th>\n",
       "      <td>positive</td>\n",
       "      <td>@VirginAmerica yes, nearly every time I fly VX...</td>\n",
       "      <td>@virginamerica yes, nearly every time i fly vx...</td>\n",
       "    </tr>\n",
       "    <tr>\n",
       "      <th>4</th>\n",
       "      <td>neutral</td>\n",
       "      <td>@VirginAmerica Really missed a prime opportuni...</td>\n",
       "      <td>@virginamerica really missed a prime opportuni...</td>\n",
       "    </tr>\n",
       "  </tbody>\n",
       "</table>\n",
       "</div>"
      ],
      "text/plain": [
       "      Label                                               Text  \\\n",
       "0   neutral                @VirginAmerica What @dhepburn said.   \n",
       "1  positive  @VirginAmerica plus you've added commercials t...   \n",
       "2   neutral  @VirginAmerica I didn't today... Must mean I n...   \n",
       "3  positive  @VirginAmerica yes, nearly every time I fly VX...   \n",
       "4   neutral  @VirginAmerica Really missed a prime opportuni...   \n",
       "\n",
       "                                         Lower Tweet  \n",
       "0                @virginamerica what @dhepburn said.  \n",
       "1  @virginamerica plus you've added commercials t...  \n",
       "2  @virginamerica i didn't today... must mean i n...  \n",
       "3  @virginamerica yes, nearly every time i fly vx...  \n",
       "4  @virginamerica really missed a prime opportuni...  "
      ]
     },
     "execution_count": 15,
     "metadata": {},
     "output_type": "execute_result"
    }
   ],
   "source": [
    "output.head()"
   ]
  },
  {
   "cell_type": "markdown",
   "id": "795ab470",
   "metadata": {},
   "source": [
    "#### Define a function to clean the text"
   ]
  },
  {
   "cell_type": "code",
   "execution_count": 16,
   "id": "fa26f74f",
   "metadata": {},
   "outputs": [],
   "source": [
    "# Removes all special characters and numericals leaving the alphabets\n",
    "def clean(text):\n",
    "    text = re.sub('[^A-Za-z]+', ' ', text)\n",
    "    return text"
   ]
  },
  {
   "cell_type": "code",
   "execution_count": 17,
   "id": "3f9f5544",
   "metadata": {},
   "outputs": [],
   "source": [
    "# Cleaning the text in the review column\n",
    "output['Cleaned Reviews'] = output['Lower Tweet'].apply(clean)"
   ]
  },
  {
   "cell_type": "code",
   "execution_count": 18,
   "id": "605f0a6d",
   "metadata": {
    "scrolled": false
   },
   "outputs": [
    {
     "data": {
      "text/html": [
       "<div>\n",
       "<style scoped>\n",
       "    .dataframe tbody tr th:only-of-type {\n",
       "        vertical-align: middle;\n",
       "    }\n",
       "\n",
       "    .dataframe tbody tr th {\n",
       "        vertical-align: top;\n",
       "    }\n",
       "\n",
       "    .dataframe thead th {\n",
       "        text-align: right;\n",
       "    }\n",
       "</style>\n",
       "<table border=\"1\" class=\"dataframe\">\n",
       "  <thead>\n",
       "    <tr style=\"text-align: right;\">\n",
       "      <th></th>\n",
       "      <th>Label</th>\n",
       "      <th>Text</th>\n",
       "      <th>Lower Tweet</th>\n",
       "      <th>Cleaned Reviews</th>\n",
       "    </tr>\n",
       "  </thead>\n",
       "  <tbody>\n",
       "    <tr>\n",
       "      <th>0</th>\n",
       "      <td>neutral</td>\n",
       "      <td>@VirginAmerica What @dhepburn said.</td>\n",
       "      <td>@virginamerica what @dhepburn said.</td>\n",
       "      <td>virginamerica what dhepburn said</td>\n",
       "    </tr>\n",
       "    <tr>\n",
       "      <th>1</th>\n",
       "      <td>positive</td>\n",
       "      <td>@VirginAmerica plus you've added commercials t...</td>\n",
       "      <td>@virginamerica plus you've added commercials t...</td>\n",
       "      <td>virginamerica plus you ve added commercials t...</td>\n",
       "    </tr>\n",
       "    <tr>\n",
       "      <th>2</th>\n",
       "      <td>neutral</td>\n",
       "      <td>@VirginAmerica I didn't today... Must mean I n...</td>\n",
       "      <td>@virginamerica i didn't today... must mean i n...</td>\n",
       "      <td>virginamerica i didn t today must mean i need...</td>\n",
       "    </tr>\n",
       "    <tr>\n",
       "      <th>3</th>\n",
       "      <td>positive</td>\n",
       "      <td>@VirginAmerica yes, nearly every time I fly VX...</td>\n",
       "      <td>@virginamerica yes, nearly every time i fly vx...</td>\n",
       "      <td>virginamerica yes nearly every time i fly vx ...</td>\n",
       "    </tr>\n",
       "    <tr>\n",
       "      <th>4</th>\n",
       "      <td>neutral</td>\n",
       "      <td>@VirginAmerica Really missed a prime opportuni...</td>\n",
       "      <td>@virginamerica really missed a prime opportuni...</td>\n",
       "      <td>virginamerica really missed a prime opportuni...</td>\n",
       "    </tr>\n",
       "  </tbody>\n",
       "</table>\n",
       "</div>"
      ],
      "text/plain": [
       "      Label                                               Text  \\\n",
       "0   neutral                @VirginAmerica What @dhepburn said.   \n",
       "1  positive  @VirginAmerica plus you've added commercials t...   \n",
       "2   neutral  @VirginAmerica I didn't today... Must mean I n...   \n",
       "3  positive  @VirginAmerica yes, nearly every time I fly VX...   \n",
       "4   neutral  @VirginAmerica Really missed a prime opportuni...   \n",
       "\n",
       "                                         Lower Tweet  \\\n",
       "0                @virginamerica what @dhepburn said.   \n",
       "1  @virginamerica plus you've added commercials t...   \n",
       "2  @virginamerica i didn't today... must mean i n...   \n",
       "3  @virginamerica yes, nearly every time i fly vx...   \n",
       "4  @virginamerica really missed a prime opportuni...   \n",
       "\n",
       "                                     Cleaned Reviews  \n",
       "0                  virginamerica what dhepburn said   \n",
       "1   virginamerica plus you ve added commercials t...  \n",
       "2   virginamerica i didn t today must mean i need...  \n",
       "3   virginamerica yes nearly every time i fly vx ...  \n",
       "4   virginamerica really missed a prime opportuni...  "
      ]
     },
     "execution_count": 18,
     "metadata": {},
     "output_type": "execute_result"
    }
   ],
   "source": [
    "output.head()"
   ]
  },
  {
   "cell_type": "markdown",
   "id": "1bf14e84",
   "metadata": {},
   "source": [
    "#### Define a function to remove Stopwords"
   ]
  },
  {
   "cell_type": "code",
   "execution_count": 19,
   "id": "8c5c554f",
   "metadata": {},
   "outputs": [],
   "source": [
    "stopwordlist = ['a', 'about', 'above', 'after', 'again', 'ain', 'all', 'am', 'an',\n",
    "             'and','any','are', 'as', 'at', 'be', 'because', 'been', 'before',\n",
    "             'being', 'below', 'between','both', 'by', 'can', 'd', 'did', 'do',\n",
    "             'does', 'doing', 'down', 'during', 'each','few', 'for', 'from',\n",
    "             'further', 'had', 'has', 'have', 'having', 'he', 'her', 'here',\n",
    "             'hers', 'herself', 'him', 'himself', 'his', 'how', 'i', 'if', 'in',\n",
    "             'into','is', 'it', 'its', 'itself', 'just', 'll', 'm', 'ma',\n",
    "             'me', 'more', 'most','my', 'myself', 'now', 'o', 'of', 'on', 'once',\n",
    "             'only', 'or', 'other', 'our', 'ours','ourselves', 'out', 'own', 're','s', 'same', 'she', \"shes\", 'should', \"shouldve\",'so', 'some', 'such',\n",
    "             't', 'than', 'that', \"thatll\", 'the', 'their', 'theirs', 'them',\n",
    "             'themselves', 'then', 'there', 'these', 'they', 'this', 'those',\n",
    "             'through', 'to', 'too','under', 'until', 'up', 've', 'very', 'was',\n",
    "             'we', 'were', 'what', 'when', 'where','which','while', 'who', 'whom',\n",
    "             'why', 'will', 'with', 'won', 'y', 'you', \"youd\",\"youll\", \"youre\",\n",
    "             \"youve\", 'your', 'yours', 'yourself', 'yourselves']"
   ]
  },
  {
   "cell_type": "code",
   "execution_count": 20,
   "id": "0b539e14",
   "metadata": {},
   "outputs": [],
   "source": [
    "STOPWORDS = set(stopwordlist)\n",
    "\n",
    "def cleaning_stopwords(text):\n",
    "    return \" \".join([word for word in str(text).split() if word not in STOPWORDS])"
   ]
  },
  {
   "cell_type": "code",
   "execution_count": 21,
   "id": "9287fc74",
   "metadata": {},
   "outputs": [],
   "source": [
    "output['Remove Stopwords'] = output['Cleaned Reviews'].apply(lambda text: cleaning_stopwords(text))"
   ]
  },
  {
   "cell_type": "code",
   "execution_count": 22,
   "id": "22da1a74",
   "metadata": {
    "scrolled": true
   },
   "outputs": [
    {
     "data": {
      "text/html": [
       "<div>\n",
       "<style scoped>\n",
       "    .dataframe tbody tr th:only-of-type {\n",
       "        vertical-align: middle;\n",
       "    }\n",
       "\n",
       "    .dataframe tbody tr th {\n",
       "        vertical-align: top;\n",
       "    }\n",
       "\n",
       "    .dataframe thead th {\n",
       "        text-align: right;\n",
       "    }\n",
       "</style>\n",
       "<table border=\"1\" class=\"dataframe\">\n",
       "  <thead>\n",
       "    <tr style=\"text-align: right;\">\n",
       "      <th></th>\n",
       "      <th>Label</th>\n",
       "      <th>Text</th>\n",
       "      <th>Lower Tweet</th>\n",
       "      <th>Cleaned Reviews</th>\n",
       "      <th>Remove Stopwords</th>\n",
       "    </tr>\n",
       "  </thead>\n",
       "  <tbody>\n",
       "    <tr>\n",
       "      <th>0</th>\n",
       "      <td>neutral</td>\n",
       "      <td>@VirginAmerica What @dhepburn said.</td>\n",
       "      <td>@virginamerica what @dhepburn said.</td>\n",
       "      <td>virginamerica what dhepburn said</td>\n",
       "      <td>virginamerica dhepburn said</td>\n",
       "    </tr>\n",
       "    <tr>\n",
       "      <th>1</th>\n",
       "      <td>positive</td>\n",
       "      <td>@VirginAmerica plus you've added commercials t...</td>\n",
       "      <td>@virginamerica plus you've added commercials t...</td>\n",
       "      <td>virginamerica plus you ve added commercials t...</td>\n",
       "      <td>virginamerica plus added commercials experienc...</td>\n",
       "    </tr>\n",
       "    <tr>\n",
       "      <th>2</th>\n",
       "      <td>neutral</td>\n",
       "      <td>@VirginAmerica I didn't today... Must mean I n...</td>\n",
       "      <td>@virginamerica i didn't today... must mean i n...</td>\n",
       "      <td>virginamerica i didn t today must mean i need...</td>\n",
       "      <td>virginamerica didn today must mean need take a...</td>\n",
       "    </tr>\n",
       "    <tr>\n",
       "      <th>3</th>\n",
       "      <td>positive</td>\n",
       "      <td>@VirginAmerica yes, nearly every time I fly VX...</td>\n",
       "      <td>@virginamerica yes, nearly every time i fly vx...</td>\n",
       "      <td>virginamerica yes nearly every time i fly vx ...</td>\n",
       "      <td>virginamerica yes nearly every time fly vx ear...</td>\n",
       "    </tr>\n",
       "    <tr>\n",
       "      <th>4</th>\n",
       "      <td>neutral</td>\n",
       "      <td>@VirginAmerica Really missed a prime opportuni...</td>\n",
       "      <td>@virginamerica really missed a prime opportuni...</td>\n",
       "      <td>virginamerica really missed a prime opportuni...</td>\n",
       "      <td>virginamerica really missed prime opportunity ...</td>\n",
       "    </tr>\n",
       "  </tbody>\n",
       "</table>\n",
       "</div>"
      ],
      "text/plain": [
       "      Label                                               Text  \\\n",
       "0   neutral                @VirginAmerica What @dhepburn said.   \n",
       "1  positive  @VirginAmerica plus you've added commercials t...   \n",
       "2   neutral  @VirginAmerica I didn't today... Must mean I n...   \n",
       "3  positive  @VirginAmerica yes, nearly every time I fly VX...   \n",
       "4   neutral  @VirginAmerica Really missed a prime opportuni...   \n",
       "\n",
       "                                         Lower Tweet  \\\n",
       "0                @virginamerica what @dhepburn said.   \n",
       "1  @virginamerica plus you've added commercials t...   \n",
       "2  @virginamerica i didn't today... must mean i n...   \n",
       "3  @virginamerica yes, nearly every time i fly vx...   \n",
       "4  @virginamerica really missed a prime opportuni...   \n",
       "\n",
       "                                     Cleaned Reviews  \\\n",
       "0                  virginamerica what dhepburn said    \n",
       "1   virginamerica plus you ve added commercials t...   \n",
       "2   virginamerica i didn t today must mean i need...   \n",
       "3   virginamerica yes nearly every time i fly vx ...   \n",
       "4   virginamerica really missed a prime opportuni...   \n",
       "\n",
       "                                    Remove Stopwords  \n",
       "0                        virginamerica dhepburn said  \n",
       "1  virginamerica plus added commercials experienc...  \n",
       "2  virginamerica didn today must mean need take a...  \n",
       "3  virginamerica yes nearly every time fly vx ear...  \n",
       "4  virginamerica really missed prime opportunity ...  "
      ]
     },
     "execution_count": 22,
     "metadata": {},
     "output_type": "execute_result"
    }
   ],
   "source": [
    "output.head()"
   ]
  },
  {
   "cell_type": "markdown",
   "id": "147e920b",
   "metadata": {},
   "source": [
    "#### Define a function to remove url in text"
   ]
  },
  {
   "cell_type": "code",
   "execution_count": 23,
   "id": "3e0c63d2",
   "metadata": {},
   "outputs": [],
   "source": [
    "def cleaning_URLs(data):\n",
    "    return re.sub('((www.[^s]+)|(https?://[^s]+))',' ',data)"
   ]
  },
  {
   "cell_type": "code",
   "execution_count": 24,
   "id": "e142cac5",
   "metadata": {},
   "outputs": [],
   "source": [
    "output['Clean urls'] = output['Remove Stopwords'].apply(lambda x: cleaning_URLs(x))"
   ]
  },
  {
   "cell_type": "code",
   "execution_count": 25,
   "id": "f7448569",
   "metadata": {
    "scrolled": true
   },
   "outputs": [
    {
     "data": {
      "text/html": [
       "<div>\n",
       "<style scoped>\n",
       "    .dataframe tbody tr th:only-of-type {\n",
       "        vertical-align: middle;\n",
       "    }\n",
       "\n",
       "    .dataframe tbody tr th {\n",
       "        vertical-align: top;\n",
       "    }\n",
       "\n",
       "    .dataframe thead th {\n",
       "        text-align: right;\n",
       "    }\n",
       "</style>\n",
       "<table border=\"1\" class=\"dataframe\">\n",
       "  <thead>\n",
       "    <tr style=\"text-align: right;\">\n",
       "      <th></th>\n",
       "      <th>Label</th>\n",
       "      <th>Text</th>\n",
       "      <th>Lower Tweet</th>\n",
       "      <th>Cleaned Reviews</th>\n",
       "      <th>Remove Stopwords</th>\n",
       "      <th>Clean urls</th>\n",
       "    </tr>\n",
       "  </thead>\n",
       "  <tbody>\n",
       "    <tr>\n",
       "      <th>0</th>\n",
       "      <td>neutral</td>\n",
       "      <td>@VirginAmerica What @dhepburn said.</td>\n",
       "      <td>@virginamerica what @dhepburn said.</td>\n",
       "      <td>virginamerica what dhepburn said</td>\n",
       "      <td>virginamerica dhepburn said</td>\n",
       "      <td>virginamerica dhepburn said</td>\n",
       "    </tr>\n",
       "    <tr>\n",
       "      <th>1</th>\n",
       "      <td>positive</td>\n",
       "      <td>@VirginAmerica plus you've added commercials t...</td>\n",
       "      <td>@virginamerica plus you've added commercials t...</td>\n",
       "      <td>virginamerica plus you ve added commercials t...</td>\n",
       "      <td>virginamerica plus added commercials experienc...</td>\n",
       "      <td>virginamerica plus added commercials experienc...</td>\n",
       "    </tr>\n",
       "    <tr>\n",
       "      <th>2</th>\n",
       "      <td>neutral</td>\n",
       "      <td>@VirginAmerica I didn't today... Must mean I n...</td>\n",
       "      <td>@virginamerica i didn't today... must mean i n...</td>\n",
       "      <td>virginamerica i didn t today must mean i need...</td>\n",
       "      <td>virginamerica didn today must mean need take a...</td>\n",
       "      <td>virginamerica didn today must mean need take a...</td>\n",
       "    </tr>\n",
       "    <tr>\n",
       "      <th>3</th>\n",
       "      <td>positive</td>\n",
       "      <td>@VirginAmerica yes, nearly every time I fly VX...</td>\n",
       "      <td>@virginamerica yes, nearly every time i fly vx...</td>\n",
       "      <td>virginamerica yes nearly every time i fly vx ...</td>\n",
       "      <td>virginamerica yes nearly every time fly vx ear...</td>\n",
       "      <td>virginamerica yes nearly every time fly vx ear...</td>\n",
       "    </tr>\n",
       "    <tr>\n",
       "      <th>4</th>\n",
       "      <td>neutral</td>\n",
       "      <td>@VirginAmerica Really missed a prime opportuni...</td>\n",
       "      <td>@virginamerica really missed a prime opportuni...</td>\n",
       "      <td>virginamerica really missed a prime opportuni...</td>\n",
       "      <td>virginamerica really missed prime opportunity ...</td>\n",
       "      <td>virginamerica really missed prime opportunity ...</td>\n",
       "    </tr>\n",
       "  </tbody>\n",
       "</table>\n",
       "</div>"
      ],
      "text/plain": [
       "      Label                                               Text  \\\n",
       "0   neutral                @VirginAmerica What @dhepburn said.   \n",
       "1  positive  @VirginAmerica plus you've added commercials t...   \n",
       "2   neutral  @VirginAmerica I didn't today... Must mean I n...   \n",
       "3  positive  @VirginAmerica yes, nearly every time I fly VX...   \n",
       "4   neutral  @VirginAmerica Really missed a prime opportuni...   \n",
       "\n",
       "                                         Lower Tweet  \\\n",
       "0                @virginamerica what @dhepburn said.   \n",
       "1  @virginamerica plus you've added commercials t...   \n",
       "2  @virginamerica i didn't today... must mean i n...   \n",
       "3  @virginamerica yes, nearly every time i fly vx...   \n",
       "4  @virginamerica really missed a prime opportuni...   \n",
       "\n",
       "                                     Cleaned Reviews  \\\n",
       "0                  virginamerica what dhepburn said    \n",
       "1   virginamerica plus you ve added commercials t...   \n",
       "2   virginamerica i didn t today must mean i need...   \n",
       "3   virginamerica yes nearly every time i fly vx ...   \n",
       "4   virginamerica really missed a prime opportuni...   \n",
       "\n",
       "                                    Remove Stopwords  \\\n",
       "0                        virginamerica dhepburn said   \n",
       "1  virginamerica plus added commercials experienc...   \n",
       "2  virginamerica didn today must mean need take a...   \n",
       "3  virginamerica yes nearly every time fly vx ear...   \n",
       "4  virginamerica really missed prime opportunity ...   \n",
       "\n",
       "                                          Clean urls  \n",
       "0                        virginamerica dhepburn said  \n",
       "1  virginamerica plus added commercials experienc...  \n",
       "2  virginamerica didn today must mean need take a...  \n",
       "3  virginamerica yes nearly every time fly vx ear...  \n",
       "4  virginamerica really missed prime opportunity ...  "
      ]
     },
     "execution_count": 25,
     "metadata": {},
     "output_type": "execute_result"
    }
   ],
   "source": [
    "output.head()"
   ]
  },
  {
   "cell_type": "markdown",
   "id": "8241d3a9",
   "metadata": {},
   "source": [
    "#### Define a function to delete numbers from text"
   ]
  },
  {
   "cell_type": "code",
   "execution_count": 26,
   "id": "ba11e9ff",
   "metadata": {},
   "outputs": [],
   "source": [
    "def cleaning_numbers(data):\n",
    "    return re.sub('[0-9]+', '', data)"
   ]
  },
  {
   "cell_type": "code",
   "execution_count": 27,
   "id": "8e94eb59",
   "metadata": {
    "scrolled": false
   },
   "outputs": [
    {
     "data": {
      "text/html": [
       "<div>\n",
       "<style scoped>\n",
       "    .dataframe tbody tr th:only-of-type {\n",
       "        vertical-align: middle;\n",
       "    }\n",
       "\n",
       "    .dataframe tbody tr th {\n",
       "        vertical-align: top;\n",
       "    }\n",
       "\n",
       "    .dataframe thead th {\n",
       "        text-align: right;\n",
       "    }\n",
       "</style>\n",
       "<table border=\"1\" class=\"dataframe\">\n",
       "  <thead>\n",
       "    <tr style=\"text-align: right;\">\n",
       "      <th></th>\n",
       "      <th>Label</th>\n",
       "      <th>Text</th>\n",
       "      <th>Lower Tweet</th>\n",
       "      <th>Cleaned Reviews</th>\n",
       "      <th>Remove Stopwords</th>\n",
       "      <th>Clean urls</th>\n",
       "      <th>Remove Number</th>\n",
       "    </tr>\n",
       "  </thead>\n",
       "  <tbody>\n",
       "    <tr>\n",
       "      <th>0</th>\n",
       "      <td>neutral</td>\n",
       "      <td>@VirginAmerica What @dhepburn said.</td>\n",
       "      <td>@virginamerica what @dhepburn said.</td>\n",
       "      <td>virginamerica what dhepburn said</td>\n",
       "      <td>virginamerica dhepburn said</td>\n",
       "      <td>virginamerica dhepburn said</td>\n",
       "      <td>virginamerica dhepburn said</td>\n",
       "    </tr>\n",
       "    <tr>\n",
       "      <th>1</th>\n",
       "      <td>positive</td>\n",
       "      <td>@VirginAmerica plus you've added commercials t...</td>\n",
       "      <td>@virginamerica plus you've added commercials t...</td>\n",
       "      <td>virginamerica plus you ve added commercials t...</td>\n",
       "      <td>virginamerica plus added commercials experienc...</td>\n",
       "      <td>virginamerica plus added commercials experienc...</td>\n",
       "      <td>virginamerica plus added commercials experienc...</td>\n",
       "    </tr>\n",
       "    <tr>\n",
       "      <th>2</th>\n",
       "      <td>neutral</td>\n",
       "      <td>@VirginAmerica I didn't today... Must mean I n...</td>\n",
       "      <td>@virginamerica i didn't today... must mean i n...</td>\n",
       "      <td>virginamerica i didn t today must mean i need...</td>\n",
       "      <td>virginamerica didn today must mean need take a...</td>\n",
       "      <td>virginamerica didn today must mean need take a...</td>\n",
       "      <td>virginamerica didn today must mean need take a...</td>\n",
       "    </tr>\n",
       "    <tr>\n",
       "      <th>3</th>\n",
       "      <td>positive</td>\n",
       "      <td>@VirginAmerica yes, nearly every time I fly VX...</td>\n",
       "      <td>@virginamerica yes, nearly every time i fly vx...</td>\n",
       "      <td>virginamerica yes nearly every time i fly vx ...</td>\n",
       "      <td>virginamerica yes nearly every time fly vx ear...</td>\n",
       "      <td>virginamerica yes nearly every time fly vx ear...</td>\n",
       "      <td>virginamerica yes nearly every time fly vx ear...</td>\n",
       "    </tr>\n",
       "    <tr>\n",
       "      <th>4</th>\n",
       "      <td>neutral</td>\n",
       "      <td>@VirginAmerica Really missed a prime opportuni...</td>\n",
       "      <td>@virginamerica really missed a prime opportuni...</td>\n",
       "      <td>virginamerica really missed a prime opportuni...</td>\n",
       "      <td>virginamerica really missed prime opportunity ...</td>\n",
       "      <td>virginamerica really missed prime opportunity ...</td>\n",
       "      <td>virginamerica really missed prime opportunity ...</td>\n",
       "    </tr>\n",
       "  </tbody>\n",
       "</table>\n",
       "</div>"
      ],
      "text/plain": [
       "      Label                                               Text  \\\n",
       "0   neutral                @VirginAmerica What @dhepburn said.   \n",
       "1  positive  @VirginAmerica plus you've added commercials t...   \n",
       "2   neutral  @VirginAmerica I didn't today... Must mean I n...   \n",
       "3  positive  @VirginAmerica yes, nearly every time I fly VX...   \n",
       "4   neutral  @VirginAmerica Really missed a prime opportuni...   \n",
       "\n",
       "                                         Lower Tweet  \\\n",
       "0                @virginamerica what @dhepburn said.   \n",
       "1  @virginamerica plus you've added commercials t...   \n",
       "2  @virginamerica i didn't today... must mean i n...   \n",
       "3  @virginamerica yes, nearly every time i fly vx...   \n",
       "4  @virginamerica really missed a prime opportuni...   \n",
       "\n",
       "                                     Cleaned Reviews  \\\n",
       "0                  virginamerica what dhepburn said    \n",
       "1   virginamerica plus you ve added commercials t...   \n",
       "2   virginamerica i didn t today must mean i need...   \n",
       "3   virginamerica yes nearly every time i fly vx ...   \n",
       "4   virginamerica really missed a prime opportuni...   \n",
       "\n",
       "                                    Remove Stopwords  \\\n",
       "0                        virginamerica dhepburn said   \n",
       "1  virginamerica plus added commercials experienc...   \n",
       "2  virginamerica didn today must mean need take a...   \n",
       "3  virginamerica yes nearly every time fly vx ear...   \n",
       "4  virginamerica really missed prime opportunity ...   \n",
       "\n",
       "                                          Clean urls  \\\n",
       "0                        virginamerica dhepburn said   \n",
       "1  virginamerica plus added commercials experienc...   \n",
       "2  virginamerica didn today must mean need take a...   \n",
       "3  virginamerica yes nearly every time fly vx ear...   \n",
       "4  virginamerica really missed prime opportunity ...   \n",
       "\n",
       "                                       Remove Number  \n",
       "0                        virginamerica dhepburn said  \n",
       "1  virginamerica plus added commercials experienc...  \n",
       "2  virginamerica didn today must mean need take a...  \n",
       "3  virginamerica yes nearly every time fly vx ear...  \n",
       "4  virginamerica really missed prime opportunity ...  "
      ]
     },
     "execution_count": 27,
     "metadata": {},
     "output_type": "execute_result"
    }
   ],
   "source": [
    "output['Remove Number'] = output['Clean urls'].apply(lambda x: cleaning_numbers(x))\n",
    "output.head()"
   ]
  },
  {
   "cell_type": "code",
   "execution_count": 28,
   "id": "2cd6d731",
   "metadata": {},
   "outputs": [],
   "source": [
    "# importing nltk for data preprocessing/cleaning\n",
    "import nltk"
   ]
  },
  {
   "cell_type": "code",
   "execution_count": 29,
   "id": "8e46186b",
   "metadata": {},
   "outputs": [],
   "source": [
    "st = nltk.PorterStemmer()\n",
    "def stemming_on_text(data):\n",
    "    text = [st.stem(word) for word in data]\n",
    "    return data"
   ]
  },
  {
   "cell_type": "code",
   "execution_count": 30,
   "id": "22c2e870",
   "metadata": {},
   "outputs": [
    {
     "data": {
      "text/html": [
       "<div>\n",
       "<style scoped>\n",
       "    .dataframe tbody tr th:only-of-type {\n",
       "        vertical-align: middle;\n",
       "    }\n",
       "\n",
       "    .dataframe tbody tr th {\n",
       "        vertical-align: top;\n",
       "    }\n",
       "\n",
       "    .dataframe thead th {\n",
       "        text-align: right;\n",
       "    }\n",
       "</style>\n",
       "<table border=\"1\" class=\"dataframe\">\n",
       "  <thead>\n",
       "    <tr style=\"text-align: right;\">\n",
       "      <th></th>\n",
       "      <th>Label</th>\n",
       "      <th>Text</th>\n",
       "      <th>Lower Tweet</th>\n",
       "      <th>Cleaned Reviews</th>\n",
       "      <th>Remove Stopwords</th>\n",
       "      <th>Clean urls</th>\n",
       "      <th>Remove Number</th>\n",
       "      <th>Stemmer Text</th>\n",
       "    </tr>\n",
       "  </thead>\n",
       "  <tbody>\n",
       "    <tr>\n",
       "      <th>0</th>\n",
       "      <td>neutral</td>\n",
       "      <td>@VirginAmerica What @dhepburn said.</td>\n",
       "      <td>@virginamerica what @dhepburn said.</td>\n",
       "      <td>virginamerica what dhepburn said</td>\n",
       "      <td>virginamerica dhepburn said</td>\n",
       "      <td>virginamerica dhepburn said</td>\n",
       "      <td>virginamerica dhepburn said</td>\n",
       "      <td>virginamerica dhepburn said</td>\n",
       "    </tr>\n",
       "    <tr>\n",
       "      <th>1</th>\n",
       "      <td>positive</td>\n",
       "      <td>@VirginAmerica plus you've added commercials t...</td>\n",
       "      <td>@virginamerica plus you've added commercials t...</td>\n",
       "      <td>virginamerica plus you ve added commercials t...</td>\n",
       "      <td>virginamerica plus added commercials experienc...</td>\n",
       "      <td>virginamerica plus added commercials experienc...</td>\n",
       "      <td>virginamerica plus added commercials experienc...</td>\n",
       "      <td>virginamerica plus added commercials experienc...</td>\n",
       "    </tr>\n",
       "    <tr>\n",
       "      <th>2</th>\n",
       "      <td>neutral</td>\n",
       "      <td>@VirginAmerica I didn't today... Must mean I n...</td>\n",
       "      <td>@virginamerica i didn't today... must mean i n...</td>\n",
       "      <td>virginamerica i didn t today must mean i need...</td>\n",
       "      <td>virginamerica didn today must mean need take a...</td>\n",
       "      <td>virginamerica didn today must mean need take a...</td>\n",
       "      <td>virginamerica didn today must mean need take a...</td>\n",
       "      <td>virginamerica didn today must mean need take a...</td>\n",
       "    </tr>\n",
       "    <tr>\n",
       "      <th>3</th>\n",
       "      <td>positive</td>\n",
       "      <td>@VirginAmerica yes, nearly every time I fly VX...</td>\n",
       "      <td>@virginamerica yes, nearly every time i fly vx...</td>\n",
       "      <td>virginamerica yes nearly every time i fly vx ...</td>\n",
       "      <td>virginamerica yes nearly every time fly vx ear...</td>\n",
       "      <td>virginamerica yes nearly every time fly vx ear...</td>\n",
       "      <td>virginamerica yes nearly every time fly vx ear...</td>\n",
       "      <td>virginamerica yes nearly every time fly vx ear...</td>\n",
       "    </tr>\n",
       "    <tr>\n",
       "      <th>4</th>\n",
       "      <td>neutral</td>\n",
       "      <td>@VirginAmerica Really missed a prime opportuni...</td>\n",
       "      <td>@virginamerica really missed a prime opportuni...</td>\n",
       "      <td>virginamerica really missed a prime opportuni...</td>\n",
       "      <td>virginamerica really missed prime opportunity ...</td>\n",
       "      <td>virginamerica really missed prime opportunity ...</td>\n",
       "      <td>virginamerica really missed prime opportunity ...</td>\n",
       "      <td>virginamerica really missed prime opportunity ...</td>\n",
       "    </tr>\n",
       "  </tbody>\n",
       "</table>\n",
       "</div>"
      ],
      "text/plain": [
       "      Label                                               Text  \\\n",
       "0   neutral                @VirginAmerica What @dhepburn said.   \n",
       "1  positive  @VirginAmerica plus you've added commercials t...   \n",
       "2   neutral  @VirginAmerica I didn't today... Must mean I n...   \n",
       "3  positive  @VirginAmerica yes, nearly every time I fly VX...   \n",
       "4   neutral  @VirginAmerica Really missed a prime opportuni...   \n",
       "\n",
       "                                         Lower Tweet  \\\n",
       "0                @virginamerica what @dhepburn said.   \n",
       "1  @virginamerica plus you've added commercials t...   \n",
       "2  @virginamerica i didn't today... must mean i n...   \n",
       "3  @virginamerica yes, nearly every time i fly vx...   \n",
       "4  @virginamerica really missed a prime opportuni...   \n",
       "\n",
       "                                     Cleaned Reviews  \\\n",
       "0                  virginamerica what dhepburn said    \n",
       "1   virginamerica plus you ve added commercials t...   \n",
       "2   virginamerica i didn t today must mean i need...   \n",
       "3   virginamerica yes nearly every time i fly vx ...   \n",
       "4   virginamerica really missed a prime opportuni...   \n",
       "\n",
       "                                    Remove Stopwords  \\\n",
       "0                        virginamerica dhepburn said   \n",
       "1  virginamerica plus added commercials experienc...   \n",
       "2  virginamerica didn today must mean need take a...   \n",
       "3  virginamerica yes nearly every time fly vx ear...   \n",
       "4  virginamerica really missed prime opportunity ...   \n",
       "\n",
       "                                          Clean urls  \\\n",
       "0                        virginamerica dhepburn said   \n",
       "1  virginamerica plus added commercials experienc...   \n",
       "2  virginamerica didn today must mean need take a...   \n",
       "3  virginamerica yes nearly every time fly vx ear...   \n",
       "4  virginamerica really missed prime opportunity ...   \n",
       "\n",
       "                                       Remove Number  \\\n",
       "0                        virginamerica dhepburn said   \n",
       "1  virginamerica plus added commercials experienc...   \n",
       "2  virginamerica didn today must mean need take a...   \n",
       "3  virginamerica yes nearly every time fly vx ear...   \n",
       "4  virginamerica really missed prime opportunity ...   \n",
       "\n",
       "                                        Stemmer Text  \n",
       "0                        virginamerica dhepburn said  \n",
       "1  virginamerica plus added commercials experienc...  \n",
       "2  virginamerica didn today must mean need take a...  \n",
       "3  virginamerica yes nearly every time fly vx ear...  \n",
       "4  virginamerica really missed prime opportunity ...  "
      ]
     },
     "execution_count": 30,
     "metadata": {},
     "output_type": "execute_result"
    }
   ],
   "source": [
    "output['Stemmer Text']= output['Remove Number'].apply(lambda x: stemming_on_text(x))\n",
    "output.head()"
   ]
  },
  {
   "cell_type": "code",
   "execution_count": null,
   "id": "d26d5ebf",
   "metadata": {},
   "outputs": [],
   "source": []
  },
  {
   "cell_type": "markdown",
   "id": "c2995dbd",
   "metadata": {},
   "source": [
    "### Machine Learning Model Implementation"
   ]
  },
  {
   "cell_type": "markdown",
   "id": "800b290c",
   "metadata": {},
   "source": [
    "###### Implementing Supervised Machine Learning Algorithim - Random Forest"
   ]
  },
  {
   "cell_type": "markdown",
   "id": "64bc88da",
   "metadata": {},
   "source": [
    "#### Creating Random Forest Classification model "
   ]
  },
  {
   "cell_type": "code",
   "execution_count": 31,
   "id": "caaa2ce8",
   "metadata": {},
   "outputs": [],
   "source": [
    "#Importing Model Libraries\n",
    "from sklearn.metrics import confusion_matrix, classification_report\n",
    "from sklearn.feature_extraction.text import TfidfVectorizer\n",
    "from sklearn.feature_selection import SelectKBest, chi2\n",
    "from sklearn.model_selection import train_test_split\n",
    "from sklearn.ensemble import RandomForestClassifier\n",
    "from sklearn.preprocessing import StandardScaler\n",
    "from sklearn.pipeline import Pipeline\n",
    "import pickle"
   ]
  },
  {
   "cell_type": "code",
   "execution_count": 32,
   "id": "54eeb155",
   "metadata": {},
   "outputs": [
    {
     "data": {
      "text/plain": [
       "(14505, 9050)"
      ]
     },
     "execution_count": 32,
     "metadata": {},
     "output_type": "execute_result"
    }
   ],
   "source": [
    "vectorizer = TfidfVectorizer(min_df= 3, stop_words=\"english\", sublinear_tf=True, norm='l2', ngram_range=(1, 2))\n",
    "final_features = vectorizer.fit_transform(output['Stemmer Text']).toarray()\n",
    "final_features.shape"
   ]
  },
  {
   "cell_type": "code",
   "execution_count": 33,
   "id": "c1ef7da1",
   "metadata": {},
   "outputs": [],
   "source": [
    "# This block is to split the dataset into training and testing set \n",
    "X = output['Stemmer Text']\n",
    "Y = output['Label']\n",
    "X_train, X_test, y_train, y_test = train_test_split(X, Y, test_size=0.25)"
   ]
  },
  {
   "cell_type": "code",
   "execution_count": 34,
   "id": "fd378574",
   "metadata": {},
   "outputs": [],
   "source": [
    "# Instead of doing these steps one at a time, we can use a pipeline to complete then all at once\n",
    "pipeline = Pipeline([('vect', vectorizer),\n",
    "                     ('chi',  SelectKBest(chi2, k=1200)),\n",
    "                     ('clf', RandomForestClassifier())])"
   ]
  },
  {
   "cell_type": "code",
   "execution_count": 35,
   "id": "87a0bee8",
   "metadata": {},
   "outputs": [],
   "source": [
    "from sklearn.metrics import f1_score, accuracy_score\n",
    "# Fitting our model and save it in a pickle for later use\n",
    "model = pipeline.fit(X_train, y_train)\n",
    "\n",
    "# Saving the Model as pickle file\n",
    "with open('RandomForest.pickle', 'wb') as f:\n",
    "    pickle.dump(model, f)\n",
    "\n",
    "ytest = np.array(y_test)"
   ]
  },
  {
   "cell_type": "code",
   "execution_count": 36,
   "id": "f9fc7243",
   "metadata": {},
   "outputs": [
    {
     "data": {
      "text/plain": [
       "0.7350427350427351"
      ]
     },
     "execution_count": 36,
     "metadata": {},
     "output_type": "execute_result"
    }
   ],
   "source": [
    "# Calculating Accuracy of Model on test data\n",
    "accuracy_score(ytest, model.predict(X_test))"
   ]
  },
  {
   "cell_type": "code",
   "execution_count": 37,
   "id": "b2ad1334",
   "metadata": {},
   "outputs": [
    {
     "name": "stdout",
     "output_type": "stream",
     "text": [
      "              precision    recall  f1-score   support\n",
      "\n",
      "    negative       0.79      0.89      0.84      2265\n",
      "     neutral       0.54      0.41      0.46       779\n",
      "    positive       0.68      0.58      0.63       583\n",
      "\n",
      "    accuracy                           0.74      3627\n",
      "   macro avg       0.67      0.63      0.64      3627\n",
      "weighted avg       0.72      0.74      0.72      3627\n",
      "\n"
     ]
    }
   ],
   "source": [
    "# Classification report(precision, recall, F1-score)\n",
    "print(classification_report(ytest, model.predict(X_test)))"
   ]
  },
  {
   "cell_type": "code",
   "execution_count": 38,
   "id": "6a6e66b1",
   "metadata": {},
   "outputs": [
    {
     "name": "stdout",
     "output_type": "stream",
     "text": [
      "[[2009  184   72]\n",
      " [ 373  317   89]\n",
      " [ 152   91  340]]\n"
     ]
    }
   ],
   "source": [
    "# Ploating Confusion matrix \n",
    "print(confusion_matrix(ytest, model.predict(X_test)))"
   ]
  },
  {
   "cell_type": "code",
   "execution_count": null,
   "id": "82392e0c",
   "metadata": {},
   "outputs": [],
   "source": []
  },
  {
   "cell_type": "code",
   "execution_count": null,
   "id": "ff1b5409",
   "metadata": {},
   "outputs": [],
   "source": []
  },
  {
   "cell_type": "code",
   "execution_count": null,
   "id": "3c065a10",
   "metadata": {},
   "outputs": [],
   "source": []
  }
 ],
 "metadata": {
  "kernelspec": {
   "display_name": "Python 3 (ipykernel)",
   "language": "python",
   "name": "python3"
  },
  "language_info": {
   "codemirror_mode": {
    "name": "ipython",
    "version": 3
   },
   "file_extension": ".py",
   "mimetype": "text/x-python",
   "name": "python",
   "nbconvert_exporter": "python",
   "pygments_lexer": "ipython3",
   "version": "3.9.7"
  }
 },
 "nbformat": 4,
 "nbformat_minor": 5
}
